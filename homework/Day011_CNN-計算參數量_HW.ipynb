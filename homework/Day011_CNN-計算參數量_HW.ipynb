{
 "cells": [
  {
   "cell_type": "markdown",
   "metadata": {
    "colab_type": "text",
    "id": "f6jN0Y8x4gNA"
   },
   "source": [
    "## 『本次練習內容』\n",
    "#### 運用Keras搭建簡單的Dense Layer與 Convolution2D Layer，使用相同Neurons數量，計算總參數量相差多少。\n"
   ]
  },
  {
   "cell_type": "markdown",
   "metadata": {},
   "source": [
    "## 『本次練習目的』\n",
    "  #### 本次練習主要是要讓各位同學們了解CNN與FC層的參數使用量差異\n",
    "  #### Convolution2D有許多參數可以設置，之後章節會細談\n",
    "  #### 不熟Keras的學員們也可以藉此了解NN層的不同搭法"
   ]
  },
  {
   "cell_type": "code",
   "execution_count": 1,
   "metadata": {
    "colab": {},
    "colab_type": "code",
    "id": "SAFr7hM24gNB"
   },
   "outputs": [
    {
     "output_type": "stream",
     "name": "stderr",
     "text": [
      "Using TensorFlow backend.\n"
     ]
    }
   ],
   "source": [
    "from keras.models import Sequential\n",
    "from keras.layers import Convolution2D\n",
    "from keras.layers import Input, Dense\n",
    "from keras.models import Model"
   ]
  },
  {
   "cell_type": "code",
   "execution_count": 88,
   "metadata": {},
   "outputs": [
    {
     "output_type": "stream",
     "name": "stdout",
     "text": [
      "Model: \"sequential_83\"\n_________________________________________________________________\nLayer (type)                 Output Shape              Param #   \n=================================================================\nconv2d_25 (Conv2D)           (None, 28, 28, 32)        320       \n=================================================================\nTotal params: 320\nTrainable params: 320\nNon-trainable params: 0\n_________________________________________________________________\nNone\nModel: \"model_14\"\n_________________________________________________________________\nLayer (type)                 Output Shape              Param #   \n=================================================================\ninput_16 (InputLayer)        (None, 784)               0         \n_________________________________________________________________\ndense_89 (Dense)             (None, 288)               226080    \n=================================================================\nTotal params: 226,080\nTrainable params: 226,080\nNon-trainable params: 0\n_________________________________________________________________\nNone\n"
     ]
    },
    {
     "output_type": "execute_result",
     "data": {
      "text/plain": [
       "'理解輸出Total params為何==226080'"
      ]
     },
     "metadata": {},
     "execution_count": 88
    }
   ],
   "source": [
    "##輸入照片尺寸==28*28*1\n",
    "##都用一層，288個神經元\n",
    "\n",
    "'''\n",
    "建造一個一層的CNN層\n",
    "計算方式 ： (Kernel_H *kernel_W*channels+1)*Kernel_numbers\n",
    "下面範例 ： (   3     *    3    *  1    + 1)*      32      =320\n",
    "'''\n",
    "classifier=Sequential()\n",
    "##Kernel size 3*3，用32張，輸入大小28*28*1\n",
    "classifier.add(Convolution2D(32,kernel_size= 3,strides=1,padding=\"same\" , input_shape = (28,28,1)))\n",
    "'''32張Kernel，大小為3*3，輸入尺寸為28*28*1'''\n",
    "##看看model結構\n",
    "print(classifier.summary())\n",
    "\n",
    "'''\n",
    "建造一個一層的FC層\n",
    "計算方式 ： Input * output + output(bias) \n",
    "下面範例 ：28*28*1 * 288 + 288 = 226080\n",
    "'''\n",
    "\n",
    "'''第一種方法'''\n",
    "##輸入為28*28*1攤平==784\n",
    "inputs = Input(shape=(784,))\n",
    "'''輸入尺寸為28*28*1'''\n",
    "##CNN中用了(3*3*1)*32個神經元，這邊也用相同神經元數量\n",
    "x=Dense(288)(inputs)\n",
    "'''使用288個神經元'''\n",
    "model = Model(inputs=inputs, outputs=x)\n",
    "\n",
    "'''\n",
    "第二種方法\n",
    "'''\n",
    "test=Sequential()\n",
    "test.add(Dense(288,input_shape =(28*28,)))\n",
    "test.summary()\n",
    "##看看model結構\n",
    "print(model.summary())\n",
    "\n",
    "'''784*288+288=226080'''\n",
    "'''理解輸出Total params為何==226080'''"
   ]
  },
  {
   "cell_type": "code",
   "execution_count": 87,
   "metadata": {},
   "outputs": [
    {
     "output_type": "stream",
     "name": "stdout",
     "text": [
      "Model: \"sequential_82\"\n_________________________________________________________________\nLayer (type)                 Output Shape              Param #   \n=================================================================\ndense_88 (Dense)             (None, 288)               226080    \n=================================================================\nTotal params: 226,080\nTrainable params: 226,080\nNon-trainable params: 0\n_________________________________________________________________\n"
     ]
    }
   ],
   "source": []
  }
 ],
 "metadata": {
  "colab": {
   "name": "CNN-計算參數量.ipynb",
   "provenance": [],
   "version": "0.3.2"
  },
  "kernelspec": {
   "display_name": "Python 3",
   "language": "python",
   "name": "python3"
  },
  "language_info": {
   "codemirror_mode": {
    "name": "ipython",
    "version": 3
   },
   "file_extension": ".py",
   "mimetype": "text/x-python",
   "name": "python",
   "nbconvert_exporter": "python",
   "pygments_lexer": "ipython3",
   "version": "3.7.0-final"
  }
 },
 "nbformat": 4,
 "nbformat_minor": 1
}