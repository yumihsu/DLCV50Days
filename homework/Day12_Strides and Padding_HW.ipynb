{
 "cells": [
  {
   "cell_type": "markdown",
   "metadata": {
    "colab_type": "text",
    "id": "0BBfdBwkyTiQ"
   },
   "source": [
    "## 『作業內容』\n",
    "####   依照指示，透過調整Padding、Strides參數控制輸出Feature map大小\n"
   ]
  },
  {
   "cell_type": "markdown",
   "metadata": {
    "colab_type": "text",
    "id": "7CtbcEb4yTiT"
   },
   "source": [
    "## 『目標』\n",
    "####   了解輸出feature map尺寸變化原理"
   ]
  },
  {
   "cell_type": "code",
   "execution_count": 4,
   "metadata": {
    "colab": {},
    "colab_type": "code",
    "id": "2fhi3otQyTiU"
   },
   "outputs": [
    {
     "output_type": "stream",
     "name": "stdout",
     "text": [
      "Model: \"model_2\"\n_________________________________________________________________\nLayer (type)                 Output Shape              Param #   \n=================================================================\ninput_5 (InputLayer)         (None, 13, 13, 1)         0         \n_________________________________________________________________\nconv2d_2 (Conv2D)            (None, 13, 13, 32)        1184      \n=================================================================\nTotal params: 1,184\nTrainable params: 1,184\nNon-trainable params: 0\n_________________________________________________________________\nModel: \"model_3\"\n_________________________________________________________________\nLayer (type)                 Output Shape              Param #   \n=================================================================\ninput_6 (InputLayer)         (None, 13, 13, 1)         0         \n_________________________________________________________________\nconv2d_3 (Conv2D)            (None, 7, 7, 32)          1184      \n=================================================================\nTotal params: 1,184\nTrainable params: 1,184\nNon-trainable params: 0\n_________________________________________________________________\nModel: \"model_4\"\n_________________________________________________________________\nLayer (type)                 Output Shape              Param #   \n=================================================================\ninput_7 (InputLayer)         (None, 13, 13, 1)         0         \n_________________________________________________________________\nconv2d_4 (Conv2D)            (None, 8, 8, 32)          1184      \n=================================================================\nTotal params: 1,184\nTrainable params: 1,184\nNon-trainable params: 0\n_________________________________________________________________\nModel: \"model_5\"\n_________________________________________________________________\nLayer (type)                 Output Shape              Param #   \n=================================================================\ninput_8 (InputLayer)         (None, 13, 13, 1)         0         \n_________________________________________________________________\nconv2d_5 (Conv2D)            (None, 4, 4, 32)          1184      \n=================================================================\nTotal params: 1,184\nTrainable params: 1,184\nNon-trainable params: 0\n_________________________________________________________________\n"
     ]
    }
   ],
   "source": [
    "from keras.models import Sequential\n",
    "from keras.layers import Convolution2D\n",
    "from keras.layers import Input, Dense\n",
    "from keras.models import Model\n",
    "\n",
    "\n",
    "##kernel size=(6,6)\n",
    "##kernel數量：32\n",
    "\n",
    "## Same padding、strides=(1,1)\n",
    "'''\n",
    "same padding =  W(H)/strides\n",
    "                13 / 1 = 13\n",
    "                13 / 2 = 6.5 > 7\n",
    "'''\n",
    "classifier=Sequential()\n",
    "inputs = Input(shape=(13,13,1))\n",
    "x=Convolution2D(32,kernel_size = (6,6),strides = 1,padding = \"same\")(inputs)\n",
    "model = Model(inputs=inputs, outputs=x)\n",
    "model.summary()\n",
    "## Same padding、strides=(2,2)\n",
    "classifier=Sequential()\n",
    "inputs = Input(shape=(13,13,1))\n",
    "x=Convolution2D(32,kernel_size = (6,6),strides = 2,padding = \"same\")(inputs)\n",
    "model = Model(inputs=inputs, outputs=x)\n",
    "model.summary()\n",
    "'''\n",
    "valid padding = (W(H)- kernel_H(W) +1 )/strides\n",
    "                ( 13 - 6 + 1 ) / 1 = 8\n",
    "                ( 13 - 6 + 1 ) / 2 = 4\n",
    "'''\n",
    "## Valid padding、strides=(1,1)\n",
    "classifier=Sequential()\n",
    "inputs = Input(shape=(13,13,1))\n",
    "x=Convolution2D(32,kernel_size = (6,6),strides = 1,padding = \"valid\")(inputs)\n",
    "model = Model(inputs=inputs, outputs=x)\n",
    "model.summary()\n",
    "## Valid padding、strides=(2,2)\n",
    "classifier=Sequential()\n",
    "inputs = Input(shape=(13,13,1))\n",
    "x=Convolution2D(32,kernel_size = (6,6),strides = 2,padding = \"valid\")(inputs)\n",
    "model = Model(inputs=inputs, outputs=x)\n",
    "model.summary()\n"
   ]
  }
 ],
 "metadata": {
  "colab": {
   "name": "Strides and Padding.ipynb",
   "provenance": []
  },
  "kernelspec": {
   "display_name": "Python 3",
   "language": "python",
   "name": "python3"
  },
  "language_info": {
   "codemirror_mode": {
    "name": "ipython",
    "version": 3
   },
   "file_extension": ".py",
   "mimetype": "text/x-python",
   "name": "python",
   "nbconvert_exporter": "python",
   "pygments_lexer": "ipython3",
   "version": "3.7.0-final"
  }
 },
 "nbformat": 4,
 "nbformat_minor": 1
}