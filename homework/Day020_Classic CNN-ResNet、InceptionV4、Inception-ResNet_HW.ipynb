{
 "cells": [
  {
   "cell_type": "markdown",
   "metadata": {},
   "source": [
    "## 『本次練習內容』\n",
    "#### 學習如何搭建 Residual Block\n",
    "####  學習如何搭建Inception-ResNet中的 Inception Block"
   ]
  },
  {
   "cell_type": "markdown",
   "metadata": {},
   "source": [
    "## 『本次練習目的』\n",
    "  #### 了解 Residual Block原理\n",
    "  #### 了解如何結合Inception 與 Residual概念"
   ]
  },
  {
   "cell_type": "markdown",
   "metadata": {},
   "source": [
    "---"
   ]
  },
  {
   "cell_type": "markdown",
   "metadata": {},
   "source": [
    "## Part1"
   ]
  },
  {
   "cell_type": "code",
   "execution_count": 6,
   "metadata": {},
   "outputs": [],
   "source": [
    "import numpy as np\n",
    "from keras.models import Model\n",
    "from keras.layers import Flatten\n",
    "from keras.layers import Dense\n",
    "from keras.layers import Input\n",
    "from keras.layers import Conv2D\n",
    "from keras.layers import MaxPooling2D\n",
    "from keras.layers import GlobalMaxPooling2D\n",
    "from keras.layers import GlobalAveragePooling2D\n",
    "from keras import backend as K\n",
    "from keras import layers\n",
    "from keras.layers import BatchNormalization\n",
    "from keras.layers import Activation\n",
    "from keras.layers import Concatenate\n",
    "from keras.layers import Lambda"
   ]
  },
  {
   "cell_type": "markdown",
   "metadata": {},
   "source": [
    "![Incpeiton](ResNet_Structure.png)"
   ]
  },
  {
   "cell_type": "markdown",
   "metadata": {},
   "source": [
    "## ResNetV1"
   ]
  },
  {
   "cell_type": "code",
   "execution_count": 5,
   "metadata": {},
   "outputs": [],
   "source": [
    "def Residual_block(input_tensor, kernel_size, filters, stage, block):\n",
    "    filters1, filters2, filters3 = filters\n",
    "    conv_name_base = 'res' + str(stage) + block + '_branch'\n",
    "    bn_name_base = 'bn' + str(stage) + block + '_branch'\n",
    "\n",
    "    x = Conv2D(filters1, (1, 1), name=conv_name_base + '2a')(input_tensor)\n",
    "    x = BatchNormalization(axis=3, name=bn_name_base + '2a')(x)\n",
    "    x = Activation('relu')(x)\n",
    "\n",
    "    x = Conv2D(filters2, kernel_size,padding='same', name=conv_name_base + '2b')(x)\n",
    "    x = BatchNormalization(axis=3, name=bn_name_base + '2b')(x)\n",
    "\n",
    "    x = layers.add([x, input_tensor])\n",
    "    x = Activation('relu')(x)\n",
    "    return x"
   ]
  },
  {
   "cell_type": "markdown",
   "metadata": {},
   "source": [
    "## 參考ResNetV1 搭建 ResNetV2版本的Residual Block"
   ]
  },
  {
   "cell_type": "code",
   "execution_count": null,
   "metadata": {},
   "outputs": [],
   "source": [
    "def Residual_block_v2(input_tensor, kernel_size, filters, stage, block):\n",
    "    filters1, filters2, filters3 = filters\n",
    "    conv_name_base = 'res' + str(stage) + block + '_branch'\n",
    "    bn_name_base = 'bn' + str(stage) + block + '_branch'\n",
    "\n",
    "    '''搭建V2版本Block'''\n",
    "    x = BatchNormalization(axis= 3 , name = bn_name_base + '2a')(input_tensor)\n",
    "    x = Activation('relu')(x)\n",
    "    x = Conv2D(filters1 , (1,1) , name = conv_name_base+'2a')(x)\n",
    "\n",
    "    x = BatchNormalization(axis= 3 , name = bn_name_base + '2b')(x)\n",
    "    x = Activation('relu')(x)\n",
    "    x = Conv2D(filters2 , (1,1) , name = conv_name_base+'2b')(x)\n",
    "\n",
    "    x = layers.add([x,input_tensor])\n",
    "\n",
    "    return x"
   ]
  },
  {
   "cell_type": "markdown",
   "metadata": {},
   "source": [
    "## 試試看自己設計一個先壓縮再回放的V2 Block"
   ]
  },
  {
   "cell_type": "code",
   "execution_count": null,
   "metadata": {},
   "outputs": [],
   "source": [
    "def Residual_block_v2(input_tensor, kernel_size, stage, block,reduce=96,ouput_size=128):\n",
    "    filters1, filters2, filters3 = filters\n",
    "    conv_name_base = 'res' + str(stage) + block + '_branch'\n",
    "    bn_name_base = 'bn' + str(stage) + block + '_branch'\n",
    "\n",
    "    '''搭建V2版本Block'''\n",
    "    x = Conv2D(filters1 , (1,1) , name = conv_name_base+'2a')(input_tensor)\n",
    "    x = BatchNormalization(axis= 3 , name = bn_name_base + '2a')(x)\n",
    "    x = Activation('relu')(x)\n",
    "\n",
    "    x = Conv2D(filters2 , (1,1) , name = conv_name_base+'2b')(x)\n",
    "    x = BatchNormalization(axis= 3 , name = bn_name_base + '2b')(x)\n",
    "    x = Activation('relu')(x)\n",
    "\n",
    "    x = Conv2D(ouput_size, (1, 1), name=conv_name_base + '2c')(x)\n",
    "\n",
    "    x = layers.add([x,input_tensor])"
   ]
  },
  {
   "cell_type": "markdown",
   "metadata": {},
   "source": [
    "---"
   ]
  },
  {
   "cell_type": "markdown",
   "metadata": {},
   "source": [
    "## Part2"
   ]
  },
  {
   "cell_type": "markdown",
   "metadata": {
    "colab_type": "text",
    "id": "tfa8Vx5iJbZU"
   },
   "source": [
    "## Incpetion Block-A"
   ]
  },
  {
   "cell_type": "markdown",
   "metadata": {
    "colab_type": "text",
    "id": "xbuyi79mJbZX"
   },
   "source": [
    "![Incpeiton](Inception-ResNet-A.png)"
   ]
  },
  {
   "cell_type": "markdown",
   "metadata": {
    "colab_type": "text",
    "id": "3GI24k24JbZa"
   },
   "source": [
    "## Incpetion Block-B"
   ]
  },
  {
   "cell_type": "markdown",
   "metadata": {
    "colab_type": "text",
    "id": "Ge28e58BJbZd"
   },
   "source": [
    "![Incpeiton](Inception-ResNet-B.png)"
   ]
  },
  {
   "cell_type": "markdown",
   "metadata": {
    "colab_type": "text",
    "id": "aMz1WNBsJbZg"
   },
   "source": [
    "## Incpetion Block-C"
   ]
  },
  {
   "cell_type": "markdown",
   "metadata": {
    "colab_type": "text",
    "id": "A4lY1HV6JbZj"
   },
   "source": [
    "![Incpeiton](Inception-ResNet-C.png)"
   ]
  },
  {
   "cell_type": "code",
   "execution_count": 11,
   "metadata": {
    "colab": {},
    "colab_type": "code",
    "id": "t9IKAa_4JbZ1"
   },
   "outputs": [],
   "source": [
    "def Conv2d_bn(x,filters,kernel_size,padding='same',strides=(1, 1),normalizer=True,activation='relu',name=None):\n",
    "    if name is not None:\n",
    "        conv_name = name + '_conv'\n",
    "        bn_name = name + '_bn'\n",
    "        act_name = name + '_act'\n",
    "    else:\n",
    "        conv_name = None\n",
    "        bn_name = None\n",
    "        act_name = None\n",
    "    if K.image_data_format() == 'channels_first':\n",
    "        bn_axis = 1\n",
    "    else:\n",
    "        bn_axis = 3\n",
    "    x = Conv2D(\n",
    "            filters, kernel_size,\n",
    "            strides=strides, padding=padding,\n",
    "            use_bias=False, name=conv_name)(x)\n",
    "    if normalizer:\n",
    "        x = BatchNormalization(axis=bn_axis, scale=False, name=bn_name)(x)\n",
    "    if activation:\n",
    "        x = Activation(activation, name=act_name)(x)\n",
    "    return x"
   ]
  },
  {
   "cell_type": "code",
   "execution_count": 12,
   "metadata": {
    "colab": {},
    "colab_type": "code",
    "id": "d7iVPJQkJbZ-"
   },
   "outputs": [],
   "source": [
    "def Residual_block(input_tensor, kernel_size, filters, stage, block):\n",
    "    filters1, filters2, filters3 = filters\n",
    "    conv_name_base = 'res' + str(stage) + block + '_branch'\n",
    "    bn_name_base = 'bn' + str(stage) + block + '_branch'\n",
    "\n",
    "    x = Conv2D(filters1, (1, 1), name=conv_name_base + '2a')(input_tensor)\n",
    "    x = BatchNormalization(axis=3, name=bn_name_base + '2a')(x)\n",
    "    x = Activation('relu')(x)\n",
    "\n",
    "    x = Conv2D(filters2, kernel_size,\n",
    "               padding='same', name=conv_name_base + '2b')(x)\n",
    "    x = BatchNormalization(axis=3, name=bn_name_base + '2b')(x)\n",
    "    x = Activation('relu')(x)\n",
    "\n",
    "    x = Conv2D(filters3, (1, 1), name=conv_name_base + '2c')(x)\n",
    "    x = BatchNormalization(axis=3, name=bn_name_base + '2c')(x)\n",
    "\n",
    "    x = layers.add([x, input_tensor])\n",
    "    x = Activation('relu')(x)\n",
    "    return x"
   ]
  },
  {
   "cell_type": "markdown",
   "metadata": {
    "colab_type": "text",
    "id": "M0BEkO7VJbaI"
   },
   "source": [
    "## 參考上方Residual_block搭建 Inception-ResNet中的Inception Block"
   ]
  },
  {
   "cell_type": "code",
   "execution_count": 16,
   "metadata": {
    "colab": {},
    "colab_type": "code",
    "id": "XJjxq9lWJbaN"
   },
   "outputs": [],
   "source": [
    "def inception_resnet_block(x, scale, block_type, activation='relu'):\n",
    "    '''scale: scaling factor to scale the residuals (i.e., the output of\n",
    "            passing `x` through an inception module) before adding them\n",
    "            to the shortcut branch. Let `r` be the output from the residual branch,\n",
    "            the output of this block will be `x + scale * r`.(簡單來說就是控制Residual branch的比例)'''\n",
    "    if block_type == 'Incpetion_Block-A':\n",
    "        branch_0 =  Conv2d_bn(x,32,1)\n",
    "        branch_1 =  Conv2d_bn(x,32,1)\n",
    "        branch_1 =  Conv2d_bn(branch_1,32,3)\n",
    "        branch_2 =  Conv2d_bn(x,32,1)\n",
    "        branch_2 =  Conv2d_bn(branch_2,32,3)\n",
    "        branch_2 =  Conv2d_bn(branch_2,32,3)\n",
    "        branches = [branch_0, branch_1, branch_2]\n",
    "    elif block_type == 'Incpetion_Block-B':\n",
    "        branch_0 = Conv2d_bn(x,128,1)\n",
    "        branch_1 = Conv2d_bn(x,128,1)\n",
    "        branch_1 = Conv2d_bn(branch_1,128,[7,1])\n",
    "        branch_1 = Conv2d_bn(branch_1,128,[1,7])\n",
    "        branches = [branch_0, branch_1]\n",
    "    elif block_type == 'Incpetion_Block-C':\n",
    "        branch_0 = Conv2d_bn(x,192,1)\n",
    "        branch_1 = Conv2d_bn(x,192,1)\n",
    "        branch_1 = Conv2d_bn(branch_1,192,[3,1])\n",
    "        branch_1 = Conv2d_bn(branch_1,192,[1,3])\n",
    "        branches = [branch_0, branch_1]\n",
    "    else:\n",
    "        raise ValueError('Unknown Inception-ResNet block type. '\n",
    "                         'Expects \"Incpetion_Block-A\", \"Incpetion_Block-B\" or \"Incpetion_Block-C\", '\n",
    "                         'but got: ' + str(block_type))\n",
    "    mixed = Concatenate(axis=3)(branches)\n",
    "    \n",
    "    '''確保輸入跟輸出深度相同'''\n",
    "    up = Conv2d_bn(mixed,K.int_shape(x)[3],1,activation=None)\n",
    "    \n",
    "    '''導入殘差結構，並給予權重'''\n",
    "    \n",
    "    x = Lambda(lambda inputs, scale: inputs[0] + inputs[1] * scale, ##提示inputs[0]、inputs[1]\n",
    "               output_shape=K.int_shape(x)[1:],\n",
    "               arguments={'scale': scale},)([x,up])\n",
    "    \n",
    "    if activation is not None:\n",
    "        x = Activation(activation)(x)\n",
    "    return x\n"
   ]
  },
  {
   "cell_type": "code",
   "execution_count": 17,
   "metadata": {
    "colab": {},
    "colab_type": "code",
    "id": "wv-ni8GpJbaU",
    "outputId": "dcf7198f-59a6-4eac-d912-565146b1ce16"
   },
   "outputs": [
    {
     "output_type": "stream",
     "name": "stdout",
     "text": [
      "Tensor(\"activation_25/Relu:0\", shape=(None, 224, 224, 32), dtype=float32)\n"
     ]
    }
   ],
   "source": [
    "img_input = Input(shape=(224,224,32))\n",
    "x=inception_resnet_block(img_input, 0.1, 'Incpetion_Block-A', activation='relu')\n",
    "print(x)"
   ]
  },
  {
   "cell_type": "markdown",
   "metadata": {
    "colab_type": "text",
    "id": "HOBuOAjOJbab"
   },
   "source": [
    "## 測試"
   ]
  },
  {
   "cell_type": "code",
   "execution_count": 18,
   "metadata": {
    "colab": {},
    "colab_type": "code",
    "id": "T-igNjppJbad",
    "outputId": "0455b644-5456-4145-d719-3878348aa4cb"
   },
   "outputs": [
    {
     "output_type": "stream",
     "name": "stdout",
     "text": [
      "Tensor(\"activation_32/Relu:0\", shape=(None, 224, 224, 32), dtype=float32)\n"
     ]
    }
   ],
   "source": [
    "img_input = Input(shape=(224,224,32))\n",
    "x=inception_resnet_block(img_input, 0.1, 'Incpetion_Block-A', activation='relu')\n",
    "print(x)"
   ]
  },
  {
   "cell_type": "code",
   "execution_count": 19,
   "metadata": {
    "colab": {},
    "colab_type": "code",
    "id": "V7otKKZWJbah",
    "outputId": "bca7b98f-b8ab-4318-d884-77c8ee7c7fa8"
   },
   "outputs": [
    {
     "output_type": "stream",
     "name": "stdout",
     "text": [
      "Tensor(\"activation_37/Relu:0\", shape=(None, 224, 224, 32), dtype=float32)\n"
     ]
    }
   ],
   "source": [
    "img_input = Input(shape=(224,224,32))\n",
    "x=inception_resnet_block(img_input, 0.1, 'Incpetion_Block-B', activation='relu')\n",
    "print(x)"
   ]
  },
  {
   "cell_type": "code",
   "execution_count": 20,
   "metadata": {
    "colab": {},
    "colab_type": "code",
    "id": "RjxCkTlHJbal",
    "outputId": "462b602c-2a47-4790-eff4-13c875aba275"
   },
   "outputs": [
    {
     "output_type": "stream",
     "name": "stdout",
     "text": [
      "Tensor(\"activation_42/Relu:0\", shape=(None, 224, 224, 32), dtype=float32)\n"
     ]
    }
   ],
   "source": [
    "img_input = Input(shape=(224,224,32))\n",
    "x=inception_resnet_block(img_input, 0.1, 'Incpetion_Block-C', activation='relu')\n",
    "print(x)"
   ]
  },
  {
   "cell_type": "markdown",
   "metadata": {
    "colab_type": "text",
    "id": "UYD4kS0BJbao"
   },
   "source": [
    "## 嘗試導入Inception Block到 Vgg_Inception中"
   ]
  },
  {
   "cell_type": "code",
   "execution_count": 27,
   "metadata": {
    "colab": {},
    "colab_type": "code",
    "id": "FEe8WW2qJbap"
   },
   "outputs": [],
   "source": [
    "def VGG16_ResNet_Inception(include_top=True,input_tensor=None, input_shape=(224,224,1),\n",
    "          pooling='max',classes=1000):\n",
    " \n",
    "    img_input = Input(shape=input_shape)\n",
    "    \n",
    "    x = Conv2d_bn(img_input,64, (3, 3), activation='relu', padding='same', name='block1_conv1')\n",
    "    x = Conv2d_bn(x,64, (3, 3), activation='relu', padding='same', name='block1_conv2')\n",
    "    x = MaxPooling2D((2, 2), strides=(2, 2), name='block1_pool')(x)\n",
    "\n",
    "    # Block 2\n",
    "    x = Conv2d_bn(x,128, (3, 3), activation='relu', padding='same', name='block2_conv1')\n",
    "    x = Conv2d_bn(x,128, (3, 3), activation='relu', padding='same', name='block2_conv2')\n",
    "    x = MaxPooling2D((2, 2), strides=(2, 2), name='block2_pool')(x)\n",
    "\n",
    "    # Block 3\n",
    "    x = inception_resnet_block(x, 0.1, 'Incpetion_Block-A', activation='relu' )\n",
    "    x = inception_resnet_block(x, 0.1, 'Incpetion_Block-A', activation='relu' )\n",
    "    x = inception_resnet_block(x, 0.1, 'Incpetion_Block-A', activation='relu' )\n",
    "    x = MaxPooling2D((2, 2), strides=(2, 2), name='block3_pool')(x)\n",
    "\n",
    "    # Block 4\n",
    "    x = Conv2d_bn(x,512, (3, 3), activation='relu', padding='same', name='block4_conv1')\n",
    "    x = Conv2d_bn(x,512, (3, 3), activation='relu', padding='same', name='block4_conv2')\n",
    "    x = Conv2d_bn(x,512, (3, 3), activation='relu', padding='same', name='block4_conv3')\n",
    "    x = MaxPooling2D((2, 2), strides=(2, 2), name='block4_pool')(x)\n",
    "\n",
    "    # Block 5 \n",
    "    x = inception_resnet_block(x, 0.1, 'Incpetion_Block-B', activation='relu' )\n",
    "    x = inception_resnet_block(x, 0.1, 'Incpetion_Block-B', activation='relu' )\n",
    "    x = inception_resnet_block(x, 0.1, 'Incpetion_Block-B', activation='relu' )\n",
    "    x =MaxPooling2D((2, 2), strides=(2, 2), name='block5_pool')(x)\n",
    "\n",
    "    if include_top:\n",
    "        # Classification block\n",
    "        x = Flatten(name='flatten')(x)\n",
    "        x = Dense(4096, activation='relu', name='fc1')(x)\n",
    "        x = Dense(4096, activation='relu', name='fc2')(x)\n",
    "        x = Dense(classes, activation='softmax', name='predictions')(x)\n",
    "    else:\n",
    "        if pooling == 'avg':\n",
    "            x = GlobalAveragePooling2D()(x)\n",
    "        elif pooling == 'max':\n",
    "            x = GlobalMaxPooling2D()(x)\n",
    "    inputs = img_input\n",
    "    # Create model.\n",
    "    model = Model(inputs, x, name='vgg16')\n",
    "   \n",
    "    return model"
   ]
  },
  {
   "cell_type": "code",
   "execution_count": 28,
   "metadata": {
    "colab": {},
    "colab_type": "code",
    "id": "mQufg4jFJbas"
   },
   "outputs": [],
   "source": [
    "model = VGG16_ResNet_Inception(include_top=False)"
   ]
  },
  {
   "cell_type": "code",
   "execution_count": 29,
   "metadata": {
    "colab": {},
    "colab_type": "code",
    "id": "e3WfMLiYJbav"
   },
   "outputs": [
    {
     "output_type": "stream",
     "name": "stdout",
     "text": [
      "Model: \"vgg16\"\n__________________________________________________________________________________________________\nLayer (type)                    Output Shape         Param #     Connected to                     \n==================================================================================================\ninput_11 (InputLayer)           (None, 224, 224, 1)  0                                            \n__________________________________________________________________________________________________\nblock1_conv1_conv (Conv2D)      (None, 224, 224, 64) 576         input_11[0][0]                   \n__________________________________________________________________________________________________\nblock1_conv1_bn (BatchNormaliza (None, 224, 224, 64) 192         block1_conv1_conv[0][0]          \n__________________________________________________________________________________________________\nblock1_conv1_act (Activation)   (None, 224, 224, 64) 0           block1_conv1_bn[0][0]            \n__________________________________________________________________________________________________\nblock1_conv2_conv (Conv2D)      (None, 224, 224, 64) 36864       block1_conv1_act[0][0]           \n__________________________________________________________________________________________________\nblock1_conv2_bn (BatchNormaliza (None, 224, 224, 64) 192         block1_conv2_conv[0][0]          \n__________________________________________________________________________________________________\nblock1_conv2_act (Activation)   (None, 224, 224, 64) 0           block1_conv2_bn[0][0]            \n__________________________________________________________________________________________________\nblock1_pool (MaxPooling2D)      (None, 112, 112, 64) 0           block1_conv2_act[0][0]           \n__________________________________________________________________________________________________\nblock2_conv1_conv (Conv2D)      (None, 112, 112, 128 73728       block1_pool[0][0]                \n__________________________________________________________________________________________________\nblock2_conv1_bn (BatchNormaliza (None, 112, 112, 128 384         block2_conv1_conv[0][0]          \n__________________________________________________________________________________________________\nblock2_conv1_act (Activation)   (None, 112, 112, 128 0           block2_conv1_bn[0][0]            \n__________________________________________________________________________________________________\nblock2_conv2_conv (Conv2D)      (None, 112, 112, 128 147456      block2_conv1_act[0][0]           \n__________________________________________________________________________________________________\nblock2_conv2_bn (BatchNormaliza (None, 112, 112, 128 384         block2_conv2_conv[0][0]          \n__________________________________________________________________________________________________\nblock2_conv2_act (Activation)   (None, 112, 112, 128 0           block2_conv2_bn[0][0]            \n__________________________________________________________________________________________________\nblock2_pool (MaxPooling2D)      (None, 56, 56, 128)  0           block2_conv2_act[0][0]           \n__________________________________________________________________________________________________\nconv2d_56 (Conv2D)              (None, 56, 56, 32)   4096        block2_pool[0][0]                \n__________________________________________________________________________________________________\nbatch_normalization_56 (BatchNo (None, 56, 56, 32)   96          conv2d_56[0][0]                  \n__________________________________________________________________________________________________\nactivation_53 (Activation)      (None, 56, 56, 32)   0           batch_normalization_56[0][0]     \n__________________________________________________________________________________________________\nconv2d_54 (Conv2D)              (None, 56, 56, 32)   4096        block2_pool[0][0]                \n__________________________________________________________________________________________________\nconv2d_57 (Conv2D)              (None, 56, 56, 32)   9216        activation_53[0][0]              \n__________________________________________________________________________________________________\nbatch_normalization_54 (BatchNo (None, 56, 56, 32)   96          conv2d_54[0][0]                  \n__________________________________________________________________________________________________\nbatch_normalization_57 (BatchNo (None, 56, 56, 32)   96          conv2d_57[0][0]                  \n__________________________________________________________________________________________________\nactivation_51 (Activation)      (None, 56, 56, 32)   0           batch_normalization_54[0][0]     \n__________________________________________________________________________________________________\nactivation_54 (Activation)      (None, 56, 56, 32)   0           batch_normalization_57[0][0]     \n__________________________________________________________________________________________________\nconv2d_53 (Conv2D)              (None, 56, 56, 32)   4096        block2_pool[0][0]                \n__________________________________________________________________________________________________\nconv2d_55 (Conv2D)              (None, 56, 56, 32)   9216        activation_51[0][0]              \n__________________________________________________________________________________________________\nconv2d_58 (Conv2D)              (None, 56, 56, 32)   9216        activation_54[0][0]              \n__________________________________________________________________________________________________\nbatch_normalization_53 (BatchNo (None, 56, 56, 32)   96          conv2d_53[0][0]                  \n__________________________________________________________________________________________________\nbatch_normalization_55 (BatchNo (None, 56, 56, 32)   96          conv2d_55[0][0]                  \n__________________________________________________________________________________________________\nbatch_normalization_58 (BatchNo (None, 56, 56, 32)   96          conv2d_58[0][0]                  \n__________________________________________________________________________________________________\nactivation_50 (Activation)      (None, 56, 56, 32)   0           batch_normalization_53[0][0]     \n__________________________________________________________________________________________________\nactivation_52 (Activation)      (None, 56, 56, 32)   0           batch_normalization_55[0][0]     \n__________________________________________________________________________________________________\nactivation_55 (Activation)      (None, 56, 56, 32)   0           batch_normalization_58[0][0]     \n__________________________________________________________________________________________________\nconcatenate_9 (Concatenate)     (None, 56, 56, 96)   0           activation_50[0][0]              \n                                                                 activation_52[0][0]              \n                                                                 activation_55[0][0]              \n__________________________________________________________________________________________________\nconv2d_59 (Conv2D)              (None, 56, 56, 128)  12288       concatenate_9[0][0]              \n__________________________________________________________________________________________________\nbatch_normalization_59 (BatchNo (None, 56, 56, 128)  384         conv2d_59[0][0]                  \n__________________________________________________________________________________________________\nlambda_9 (Lambda)               (None, 56, 56, 128)  0           block2_pool[0][0]                \n                                                                 batch_normalization_59[0][0]     \n__________________________________________________________________________________________________\nactivation_56 (Activation)      (None, 56, 56, 128)  0           lambda_9[0][0]                   \n__________________________________________________________________________________________________\nconv2d_63 (Conv2D)              (None, 56, 56, 32)   4096        activation_56[0][0]              \n__________________________________________________________________________________________________\nbatch_normalization_63 (BatchNo (None, 56, 56, 32)   96          conv2d_63[0][0]                  \n__________________________________________________________________________________________________\nactivation_60 (Activation)      (None, 56, 56, 32)   0           batch_normalization_63[0][0]     \n__________________________________________________________________________________________________\nconv2d_61 (Conv2D)              (None, 56, 56, 32)   4096        activation_56[0][0]              \n__________________________________________________________________________________________________\nconv2d_64 (Conv2D)              (None, 56, 56, 32)   9216        activation_60[0][0]              \n__________________________________________________________________________________________________\nbatch_normalization_61 (BatchNo (None, 56, 56, 32)   96          conv2d_61[0][0]                  \n__________________________________________________________________________________________________\nbatch_normalization_64 (BatchNo (None, 56, 56, 32)   96          conv2d_64[0][0]                  \n__________________________________________________________________________________________________\nactivation_58 (Activation)      (None, 56, 56, 32)   0           batch_normalization_61[0][0]     \n__________________________________________________________________________________________________\nactivation_61 (Activation)      (None, 56, 56, 32)   0           batch_normalization_64[0][0]     \n__________________________________________________________________________________________________\nconv2d_60 (Conv2D)              (None, 56, 56, 32)   4096        activation_56[0][0]              \n__________________________________________________________________________________________________\nconv2d_62 (Conv2D)              (None, 56, 56, 32)   9216        activation_58[0][0]              \n__________________________________________________________________________________________________\nconv2d_65 (Conv2D)              (None, 56, 56, 32)   9216        activation_61[0][0]              \n__________________________________________________________________________________________________\nbatch_normalization_60 (BatchNo (None, 56, 56, 32)   96          conv2d_60[0][0]                  \n__________________________________________________________________________________________________\nbatch_normalization_62 (BatchNo (None, 56, 56, 32)   96          conv2d_62[0][0]                  \n__________________________________________________________________________________________________\nbatch_normalization_65 (BatchNo (None, 56, 56, 32)   96          conv2d_65[0][0]                  \n__________________________________________________________________________________________________\nactivation_57 (Activation)      (None, 56, 56, 32)   0           batch_normalization_60[0][0]     \n__________________________________________________________________________________________________\nactivation_59 (Activation)      (None, 56, 56, 32)   0           batch_normalization_62[0][0]     \n__________________________________________________________________________________________________\nactivation_62 (Activation)      (None, 56, 56, 32)   0           batch_normalization_65[0][0]     \n__________________________________________________________________________________________________\nconcatenate_10 (Concatenate)    (None, 56, 56, 96)   0           activation_57[0][0]              \n                                                                 activation_59[0][0]              \n                                                                 activation_62[0][0]              \n__________________________________________________________________________________________________\nconv2d_66 (Conv2D)              (None, 56, 56, 128)  12288       concatenate_10[0][0]             \n__________________________________________________________________________________________________\nbatch_normalization_66 (BatchNo (None, 56, 56, 128)  384         conv2d_66[0][0]                  \n__________________________________________________________________________________________________\nlambda_10 (Lambda)              (None, 56, 56, 128)  0           activation_56[0][0]              \n                                                                 batch_normalization_66[0][0]     \n__________________________________________________________________________________________________\nactivation_63 (Activation)      (None, 56, 56, 128)  0           lambda_10[0][0]                  \n__________________________________________________________________________________________________\nconv2d_70 (Conv2D)              (None, 56, 56, 32)   4096        activation_63[0][0]              \n__________________________________________________________________________________________________\nbatch_normalization_70 (BatchNo (None, 56, 56, 32)   96          conv2d_70[0][0]                  \n__________________________________________________________________________________________________\nactivation_67 (Activation)      (None, 56, 56, 32)   0           batch_normalization_70[0][0]     \n__________________________________________________________________________________________________\nconv2d_68 (Conv2D)              (None, 56, 56, 32)   4096        activation_63[0][0]              \n__________________________________________________________________________________________________\nconv2d_71 (Conv2D)              (None, 56, 56, 32)   9216        activation_67[0][0]              \n__________________________________________________________________________________________________\nbatch_normalization_68 (BatchNo (None, 56, 56, 32)   96          conv2d_68[0][0]                  \n__________________________________________________________________________________________________\nbatch_normalization_71 (BatchNo (None, 56, 56, 32)   96          conv2d_71[0][0]                  \n__________________________________________________________________________________________________\nactivation_65 (Activation)      (None, 56, 56, 32)   0           batch_normalization_68[0][0]     \n__________________________________________________________________________________________________\nactivation_68 (Activation)      (None, 56, 56, 32)   0           batch_normalization_71[0][0]     \n__________________________________________________________________________________________________\nconv2d_67 (Conv2D)              (None, 56, 56, 32)   4096        activation_63[0][0]              \n__________________________________________________________________________________________________\nconv2d_69 (Conv2D)              (None, 56, 56, 32)   9216        activation_65[0][0]              \n__________________________________________________________________________________________________\nconv2d_72 (Conv2D)              (None, 56, 56, 32)   9216        activation_68[0][0]              \n__________________________________________________________________________________________________\nbatch_normalization_67 (BatchNo (None, 56, 56, 32)   96          conv2d_67[0][0]                  \n__________________________________________________________________________________________________\nbatch_normalization_69 (BatchNo (None, 56, 56, 32)   96          conv2d_69[0][0]                  \n__________________________________________________________________________________________________\nbatch_normalization_72 (BatchNo (None, 56, 56, 32)   96          conv2d_72[0][0]                  \n__________________________________________________________________________________________________\nactivation_64 (Activation)      (None, 56, 56, 32)   0           batch_normalization_67[0][0]     \n__________________________________________________________________________________________________\nactivation_66 (Activation)      (None, 56, 56, 32)   0           batch_normalization_69[0][0]     \n__________________________________________________________________________________________________\nactivation_69 (Activation)      (None, 56, 56, 32)   0           batch_normalization_72[0][0]     \n__________________________________________________________________________________________________\nconcatenate_11 (Concatenate)    (None, 56, 56, 96)   0           activation_64[0][0]              \n                                                                 activation_66[0][0]              \n                                                                 activation_69[0][0]              \n__________________________________________________________________________________________________\nconv2d_73 (Conv2D)              (None, 56, 56, 128)  12288       concatenate_11[0][0]             \n__________________________________________________________________________________________________\nbatch_normalization_73 (BatchNo (None, 56, 56, 128)  384         conv2d_73[0][0]                  \n__________________________________________________________________________________________________\nlambda_11 (Lambda)              (None, 56, 56, 128)  0           activation_63[0][0]              \n                                                                 batch_normalization_73[0][0]     \n__________________________________________________________________________________________________\nactivation_70 (Activation)      (None, 56, 56, 128)  0           lambda_11[0][0]                  \n__________________________________________________________________________________________________\nblock3_pool (MaxPooling2D)      (None, 28, 28, 128)  0           activation_70[0][0]              \n__________________________________________________________________________________________________\nblock4_conv1_conv (Conv2D)      (None, 28, 28, 512)  589824      block3_pool[0][0]                \n__________________________________________________________________________________________________\nblock4_conv1_bn (BatchNormaliza (None, 28, 28, 512)  1536        block4_conv1_conv[0][0]          \n__________________________________________________________________________________________________\nblock4_conv1_act (Activation)   (None, 28, 28, 512)  0           block4_conv1_bn[0][0]            \n__________________________________________________________________________________________________\nblock4_conv2_conv (Conv2D)      (None, 28, 28, 512)  2359296     block4_conv1_act[0][0]           \n__________________________________________________________________________________________________\nblock4_conv2_bn (BatchNormaliza (None, 28, 28, 512)  1536        block4_conv2_conv[0][0]          \n__________________________________________________________________________________________________\nblock4_conv2_act (Activation)   (None, 28, 28, 512)  0           block4_conv2_bn[0][0]            \n__________________________________________________________________________________________________\nblock4_conv3_conv (Conv2D)      (None, 28, 28, 512)  2359296     block4_conv2_act[0][0]           \n__________________________________________________________________________________________________\nblock4_conv3_bn (BatchNormaliza (None, 28, 28, 512)  1536        block4_conv3_conv[0][0]          \n__________________________________________________________________________________________________\nblock4_conv3_act (Activation)   (None, 28, 28, 512)  0           block4_conv3_bn[0][0]            \n__________________________________________________________________________________________________\nblock4_pool (MaxPooling2D)      (None, 14, 14, 512)  0           block4_conv3_act[0][0]           \n__________________________________________________________________________________________________\nconv2d_75 (Conv2D)              (None, 14, 14, 128)  65536       block4_pool[0][0]                \n__________________________________________________________________________________________________\nbatch_normalization_75 (BatchNo (None, 14, 14, 128)  384         conv2d_75[0][0]                  \n__________________________________________________________________________________________________\nactivation_72 (Activation)      (None, 14, 14, 128)  0           batch_normalization_75[0][0]     \n__________________________________________________________________________________________________\nconv2d_76 (Conv2D)              (None, 14, 14, 128)  114688      activation_72[0][0]              \n__________________________________________________________________________________________________\nbatch_normalization_76 (BatchNo (None, 14, 14, 128)  384         conv2d_76[0][0]                  \n__________________________________________________________________________________________________\nactivation_73 (Activation)      (None, 14, 14, 128)  0           batch_normalization_76[0][0]     \n__________________________________________________________________________________________________\nconv2d_74 (Conv2D)              (None, 14, 14, 128)  65536       block4_pool[0][0]                \n__________________________________________________________________________________________________\nconv2d_77 (Conv2D)              (None, 14, 14, 128)  114688      activation_73[0][0]              \n__________________________________________________________________________________________________\nbatch_normalization_74 (BatchNo (None, 14, 14, 128)  384         conv2d_74[0][0]                  \n__________________________________________________________________________________________________\nbatch_normalization_77 (BatchNo (None, 14, 14, 128)  384         conv2d_77[0][0]                  \n__________________________________________________________________________________________________\nactivation_71 (Activation)      (None, 14, 14, 128)  0           batch_normalization_74[0][0]     \n__________________________________________________________________________________________________\nactivation_74 (Activation)      (None, 14, 14, 128)  0           batch_normalization_77[0][0]     \n__________________________________________________________________________________________________\nconcatenate_12 (Concatenate)    (None, 14, 14, 256)  0           activation_71[0][0]              \n                                                                 activation_74[0][0]              \n__________________________________________________________________________________________________\nconv2d_78 (Conv2D)              (None, 14, 14, 512)  131072      concatenate_12[0][0]             \n__________________________________________________________________________________________________\nbatch_normalization_78 (BatchNo (None, 14, 14, 512)  1536        conv2d_78[0][0]                  \n__________________________________________________________________________________________________\nlambda_12 (Lambda)              (None, 14, 14, 512)  0           block4_pool[0][0]                \n                                                                 batch_normalization_78[0][0]     \n__________________________________________________________________________________________________\nactivation_75 (Activation)      (None, 14, 14, 512)  0           lambda_12[0][0]                  \n__________________________________________________________________________________________________\nconv2d_80 (Conv2D)              (None, 14, 14, 128)  65536       activation_75[0][0]              \n__________________________________________________________________________________________________\nbatch_normalization_80 (BatchNo (None, 14, 14, 128)  384         conv2d_80[0][0]                  \n__________________________________________________________________________________________________\nactivation_77 (Activation)      (None, 14, 14, 128)  0           batch_normalization_80[0][0]     \n__________________________________________________________________________________________________\nconv2d_81 (Conv2D)              (None, 14, 14, 128)  114688      activation_77[0][0]              \n__________________________________________________________________________________________________\nbatch_normalization_81 (BatchNo (None, 14, 14, 128)  384         conv2d_81[0][0]                  \n__________________________________________________________________________________________________\nactivation_78 (Activation)      (None, 14, 14, 128)  0           batch_normalization_81[0][0]     \n__________________________________________________________________________________________________\nconv2d_79 (Conv2D)              (None, 14, 14, 128)  65536       activation_75[0][0]              \n__________________________________________________________________________________________________\nconv2d_82 (Conv2D)              (None, 14, 14, 128)  114688      activation_78[0][0]              \n__________________________________________________________________________________________________\nbatch_normalization_79 (BatchNo (None, 14, 14, 128)  384         conv2d_79[0][0]                  \n__________________________________________________________________________________________________\nbatch_normalization_82 (BatchNo (None, 14, 14, 128)  384         conv2d_82[0][0]                  \n__________________________________________________________________________________________________\nactivation_76 (Activation)      (None, 14, 14, 128)  0           batch_normalization_79[0][0]     \n__________________________________________________________________________________________________\nactivation_79 (Activation)      (None, 14, 14, 128)  0           batch_normalization_82[0][0]     \n__________________________________________________________________________________________________\nconcatenate_13 (Concatenate)    (None, 14, 14, 256)  0           activation_76[0][0]              \n                                                                 activation_79[0][0]              \n__________________________________________________________________________________________________\nconv2d_83 (Conv2D)              (None, 14, 14, 512)  131072      concatenate_13[0][0]             \n__________________________________________________________________________________________________\nbatch_normalization_83 (BatchNo (None, 14, 14, 512)  1536        conv2d_83[0][0]                  \n__________________________________________________________________________________________________\nlambda_13 (Lambda)              (None, 14, 14, 512)  0           activation_75[0][0]              \n                                                                 batch_normalization_83[0][0]     \n__________________________________________________________________________________________________\nactivation_80 (Activation)      (None, 14, 14, 512)  0           lambda_13[0][0]                  \n__________________________________________________________________________________________________\nconv2d_85 (Conv2D)              (None, 14, 14, 128)  65536       activation_80[0][0]              \n__________________________________________________________________________________________________\nbatch_normalization_85 (BatchNo (None, 14, 14, 128)  384         conv2d_85[0][0]                  \n__________________________________________________________________________________________________\nactivation_82 (Activation)      (None, 14, 14, 128)  0           batch_normalization_85[0][0]     \n__________________________________________________________________________________________________\nconv2d_86 (Conv2D)              (None, 14, 14, 128)  114688      activation_82[0][0]              \n__________________________________________________________________________________________________\nbatch_normalization_86 (BatchNo (None, 14, 14, 128)  384         conv2d_86[0][0]                  \n__________________________________________________________________________________________________\nactivation_83 (Activation)      (None, 14, 14, 128)  0           batch_normalization_86[0][0]     \n__________________________________________________________________________________________________\nconv2d_84 (Conv2D)              (None, 14, 14, 128)  65536       activation_80[0][0]              \n__________________________________________________________________________________________________\nconv2d_87 (Conv2D)              (None, 14, 14, 128)  114688      activation_83[0][0]              \n__________________________________________________________________________________________________\nbatch_normalization_84 (BatchNo (None, 14, 14, 128)  384         conv2d_84[0][0]                  \n__________________________________________________________________________________________________\nbatch_normalization_87 (BatchNo (None, 14, 14, 128)  384         conv2d_87[0][0]                  \n__________________________________________________________________________________________________\nactivation_81 (Activation)      (None, 14, 14, 128)  0           batch_normalization_84[0][0]     \n__________________________________________________________________________________________________\nactivation_84 (Activation)      (None, 14, 14, 128)  0           batch_normalization_87[0][0]     \n__________________________________________________________________________________________________\nconcatenate_14 (Concatenate)    (None, 14, 14, 256)  0           activation_81[0][0]              \n                                                                 activation_84[0][0]              \n__________________________________________________________________________________________________\nconv2d_88 (Conv2D)              (None, 14, 14, 512)  131072      concatenate_14[0][0]             \n__________________________________________________________________________________________________\nbatch_normalization_88 (BatchNo (None, 14, 14, 512)  1536        conv2d_88[0][0]                  \n__________________________________________________________________________________________________\nlambda_14 (Lambda)              (None, 14, 14, 512)  0           activation_80[0][0]              \n                                                                 batch_normalization_88[0][0]     \n__________________________________________________________________________________________________\nactivation_85 (Activation)      (None, 14, 14, 512)  0           lambda_14[0][0]                  \n__________________________________________________________________________________________________\nblock5_pool (MaxPooling2D)      (None, 7, 7, 512)    0           activation_85[0][0]              \n__________________________________________________________________________________________________\nglobal_max_pooling2d_1 (GlobalM (None, 512)          0           block5_pool[0][0]                \n==================================================================================================\nTotal params: 7,216,128\nTrainable params: 7,204,224\nNon-trainable params: 11,904\n__________________________________________________________________________________________________\n"
     ]
    }
   ],
   "source": [
    "model.summary()"
   ]
  }
 ],
 "metadata": {
  "colab": {
   "name": "Classic CNN-ResNet、InceptionV4、Inception-ResNet作業.ipynb",
   "provenance": []
  },
  "kernelspec": {
   "name": "python370jvsc74a57bd0f898655ca784692559396b1af9626b34a703e94ac9a4d0c848cba42136b70251",
   "display_name": "Python 3.7.0 64-bit ('tensorflow_gpu_3': conda)"
  },
  "language_info": {
   "codemirror_mode": {
    "name": "ipython",
    "version": 3
   },
   "file_extension": ".py",
   "mimetype": "text/x-python",
   "name": "python",
   "nbconvert_exporter": "python",
   "pygments_lexer": "ipython3",
   "version": "3.7.0"
  }
 },
 "nbformat": 4,
 "nbformat_minor": 1
}