{
 "cells": [
  {
   "cell_type": "markdown",
   "metadata": {},
   "source": [
    "## 『本次練習內容』\n",
    "#### 搭建一個能識別驗證碼的模型(CNN+CTC)"
   ]
  },
  {
   "cell_type": "markdown",
   "metadata": {},
   "source": [
    "## 『本次練習目的』\n",
    "  #### 了解如何結合CNN與CTC Loss\n",
    "  #### 有時間學員也可以延伸閱讀CNN+RNN+CTC模型\n",
    "  #### 沒有GPU的學員可以使用Colab，可以參考問答區的文章"
   ]
  },
  {
   "cell_type": "code",
   "execution_count": 1,
   "metadata": {},
   "outputs": [],
   "source": [
    "## 使用Colab可先run這裡的code\n",
    "#假如要連結自己的雲端硬碟再開啟\n",
    "##from google.colab import drive\n",
    "##drive.mount('/content/gdrive')\n",
    "#檢查GPU\n",
    "##!nvidia-smi\n",
    "##安裝產生驗證碼的套件"
   ]
  },
  {
   "cell_type": "markdown",
   "metadata": {},
   "source": [
    "## 記得先 pip install captcha"
   ]
  },
  {
   "cell_type": "code",
   "execution_count": 2,
   "metadata": {
    "colab": {
     "base_uri": "https://localhost:8080/",
     "height": 136
    },
    "colab_type": "code",
    "id": "AxGi02yvx1Go",
    "outputId": "e7bf7eb2-6699-441b-d724-6b5635ffa2bc"
   },
   "outputs": [
    {
     "output_type": "stream",
     "name": "stdout",
     "text": [
      "Requirement already satisfied: captcha in c:\\programdata\\anaconda3\\envs\\tensorflow_gpu_3\\lib\\site-packages (0.3)\nRequirement already satisfied: Pillow in c:\\programdata\\anaconda3\\envs\\tensorflow_gpu_3\\lib\\site-packages (from captcha) (8.0.1)\n"
     ]
    }
   ],
   "source": [
    "!pip install captcha"
   ]
  },
  {
   "cell_type": "markdown",
   "metadata": {},
   "source": [
    "## 產生驗證碼"
   ]
  },
  {
   "cell_type": "code",
   "execution_count": 26,
   "metadata": {
    "colab": {
     "base_uri": "https://localhost:8080/",
     "height": 254
    },
    "colab_type": "code",
    "id": "h2VVCBKwk6Zv",
    "outputId": "72cda421-1eca-46b1-d5bd-3b3d9e47eb08"
   },
   "outputs": [
    {
     "output_type": "stream",
     "name": "stdout",
     "text": [
      "0123456789ABCDEFGHIJKLMNOPQRSTUVWXYZ\n"
     ]
    },
    {
     "output_type": "execute_result",
     "data": {
      "text/plain": [
       "Text(0.5, 1.0, 'V1N2')"
      ]
     },
     "metadata": {},
     "execution_count": 26
    },
    {
     "output_type": "display_data",
     "data": {
      "text/plain": "<Figure size 432x288 with 1 Axes>",
      "image/png": "[encoded data removed]"
     },
     "metadata": {
      "image/png": {
       "width": 368,
       "height": 203
      },
      "needs_background": "light"
     }
    }
   ],
   "source": [
    "from captcha.image import ImageCaptcha\n",
    "import matplotlib.pyplot as plt\n",
    "import numpy as np\n",
    "import random\n",
    "\n",
    "%matplotlib inline\n",
    "%config InlineBackend.figure_format = 'retina'\n",
    "\n",
    "import string\n",
    "##驗證碼包含0-10數字以及26個英文字母\n",
    "characters = string.digits + string.ascii_uppercase\n",
    "print(characters)\n",
    "\n",
    "##設定產生圖片尺寸，以及總類別，n_class之所以要加一是為了留一個位置給Blank\n",
    "width, height, n_len, n_class = 170, 80, 4, len(characters)+1\n",
    "\n",
    "##設定產生驗證碼的generator\n",
    "generator = ImageCaptcha(width=width, height=height)\n",
    "\n",
    "##我們先練習固定長度4個字的驗證碼\n",
    "random_str = ''.join([random.choice(characters) for j in range(4)])\n",
    "img = generator.generate_image(random_str)\n",
    "\n",
    "plt.imshow(img)\n",
    "plt.title(random_str)"
   ]
  },
  {
   "cell_type": "markdown",
   "metadata": {},
   "source": [
    "## 自己搭建一個CNN模型使得output feature Map 高度被壓縮成小於4，8<寬度<20\n",
    "#### 解答的output feature Map 為 (batch_size,1,13,32)"
   ]
  },
  {
   "cell_type": "code",
   "execution_count": 4,
   "metadata": {},
   "outputs": [
    {
     "output_type": "stream",
     "name": "stderr",
     "text": [
      "Using TensorFlow backend.\n"
     ]
    }
   ],
   "source": [
    "from keras import backend as K\n",
    "import keras\n",
    "\n",
    "##CTC Loss需要四個資訊，分別是\n",
    "## Label\n",
    "## 預測\n",
    "## CNN OUTPUT寬度\n",
    "## 預測影像所包含文字長度\n",
    "def ctc_lambda_func(args):\n",
    "    y_pred, labels, input_length, label_length = args\n",
    "    return K.ctc_batch_cost(labels, y_pred, input_length, label_length)"
   ]
  },
  {
   "cell_type": "code",
   "execution_count": 45,
   "metadata": {
    "colab": {
     "base_uri": "https://localhost:8080/",
     "height": 136
    },
    "colab_type": "code",
    "id": "KX3Jq1sClGGn",
    "outputId": "ea40671a-fc3b-4758-8d29-4692252e840d"
   },
   "outputs": [
    {
     "output_type": "stream",
     "name": "stderr",
     "text": [
      "ipykernel_launcher:7: UserWarning: Update your `Conv2D` call to the Keras 2 API: `Conv2D(32, (3, 3), activation=\"relu\")`\n",
      "ipykernel_launcher:13: UserWarning: Update your `Conv2D` call to the Keras 2 API: `Conv2D(32, (3, 3), activation=\"relu\")`\n",
      "r 0 Convolution2D_1 [None, 78, 168, 32]\n",
      "r 0 BatchNormalization_1 [None, 78, 168, 32]\n",
      "r 0 Convolution2D_2 [None, 76, 166, 32]\n",
      "r 0 BatchNormalization_2 [None, 76, 166, 32]\n",
      "r 0 MaxPooling2D_1 [None, 38, 83, 32]\n",
      "r 1 Convolution2D_1 [None, 36, 81, 32]\n",
      "r 1 BatchNormalization_1 [None, 36, 81, 32]\n",
      "r 1 Convolution2D_2 [None, 34, 79, 32]\n",
      "r 1 BatchNormalization_2 [None, 34, 79, 32]\n",
      "r 1 MaxPooling2D_1 [None, 17, 39, 32]\n",
      "r 2 Convolution2D_1 [None, 15, 37, 32]\n",
      "r 2 BatchNormalization_1 [None, 15, 37, 32]\n",
      "r 2 Convolution2D_2 [None, 13, 35, 32]\n",
      "r 2 BatchNormalization_2 [None, 13, 35, 32]\n",
      "r 2 MaxPooling2D_1 [None, 6, 17, 32]\n",
      "r 3 Convolution2D_1 [None, 4, 15, 32]\n",
      "r 3 BatchNormalization_1 [None, 4, 15, 32]\n",
      "r 3 Convolution2D_2 [None, 2, 13, 32]\n",
      "r 3 BatchNormalization_2 [None, 2, 13, 32]\n",
      "r 3 MaxPooling2D_2 [None, 1, 13, 32]\n",
      "ipykernel_launcher:42: UserWarning: Update your `Model` call to the Keras 2 API: `Model(inputs=Tensor(\"in..., outputs=Tensor(\"de...)`\n",
      "ipykernel_launcher:53: UserWarning: Update your `Model` call to the Keras 2 API: `Model(inputs=[<tf.Tenso..., outputs=[<tf.Tenso...)`\n"
     ]
    }
   ],
   "source": [
    "from keras.models import *\n",
    "from keras.layers import *\n",
    "\n",
    "input_tensor = Input((height,width, 3))\n",
    "x = input_tensor\n",
    "for i in range(4):\n",
    "    x = Convolution2D(32, 3, 3, activation='relu')(x)\n",
    "    print('r',i ,'Convolution2D_1', list(x.get_shape()))\n",
    "\n",
    "    x = keras.layers.BatchNormalization(axis=-1)(x)\n",
    "    print('r',i ,'BatchNormalization_1', list(x.get_shape()))\n",
    "\n",
    "    x = Convolution2D(32, 3, 3, activation='relu')(x)\n",
    "    print('r',i ,'Convolution2D_2', list(x.get_shape()))\n",
    "\n",
    "    x = keras.layers.BatchNormalization(axis=-1)(x)\n",
    "    print('r',i ,'BatchNormalization_2', list(x.get_shape()))\n",
    "\n",
    "    if i <3:\n",
    "        x = MaxPooling2D(pool_size=(2, 2))(x)\n",
    "        print('r',i ,'MaxPooling2D_1', list(x.get_shape()))\n",
    "\n",
    "    else:\n",
    "        x = MaxPooling2D(pool_size=(2, 1))(x)\n",
    "        print('r',i ,'MaxPooling2D_2', list(x.get_shape()))\n",
    "\n",
    "\n",
    "##記錄輸出CNN尺寸，loss部分需要這個資訊\n",
    "##conv_shape=(Batch_size,輸出高度,輸出寬度,輸出深度)\n",
    "conv_shape = x.get_shape()\n",
    "\n",
    "##從(Batch_size,輸出高度,輸出寬度,輸出深度)變成(Batch_size,輸出寬度,輸出深度*輸出高度)，以符合ctc loss需求\n",
    "x = Reshape(target_shape=(int(conv_shape[2]), int(conv_shape[1]*conv_shape[3])))(x)\n",
    "print('Reshape:',x.get_shape())\n",
    "x = Dense(32, activation='relu')(x)\n",
    "\n",
    "x = Dropout(0.25)(x)\n",
    "x = Dense(n_class, activation='softmax')(x) # 輸出為0-9 a-z 還有sapce 共37種字元可能\n",
    "\n",
    "\n",
    "##包裝用來預測的model\n",
    "base_model = Model(input=input_tensor, output=x)\n",
    "\n",
    "\n",
    "##設定要給CTC Loss的資訊\n",
    "labels = Input(name='the_labels', shape=[n_len], dtype='float32')\n",
    "input_length = Input(name='input_length', shape=[1], dtype='int64')\n",
    "label_length = Input(name='label_length', shape=[1], dtype='int64')\n",
    "loss_out = Lambda(ctc_lambda_func, output_shape=(1,), \n",
    "                  name='ctc')([x, labels, input_length, label_length])\n",
    "\n",
    "##這裡的model是用來計算loss\n",
    "model = Model(input=[input_tensor, labels, input_length, label_length], output=[loss_out])\n",
    "\n",
    "##之所以要lambda y_true, y_pred: y_pred是因為我們的loss已經包在網路裡，會output:y_true, y_pred，而我們只需要y_pred\n",
    "model.compile(loss={'ctc': lambda y_true, y_pred: y_pred}, optimizer='SGD')"
   ]
  },
  {
   "cell_type": "code",
   "execution_count": 6,
   "metadata": {
    "colab": {
     "base_uri": "https://localhost:8080/",
     "height": 1000
    },
    "colab_type": "code",
    "id": "m1YRv0TVN_FL",
    "outputId": "c5b995c5-43b0-481b-8cd1-0fd5f85e4f03"
   },
   "outputs": [
    {
     "output_type": "stream",
     "name": "stdout",
     "text": [
      "Model: \"model_2\"\n__________________________________________________________________________________________________\nLayer (type)                    Output Shape         Param #     Connected to                     \n==================================================================================================\ninput_1 (InputLayer)            (None, 80, 170, 3)   0                                            \n__________________________________________________________________________________________________\nconv2d_1 (Conv2D)               (None, 78, 168, 32)  896         input_1[0][0]                    \n__________________________________________________________________________________________________\nbatch_normalization_1 (BatchNor (None, 78, 168, 32)  128         conv2d_1[0][0]                   \n__________________________________________________________________________________________________\nconv2d_2 (Conv2D)               (None, 76, 166, 32)  9248        batch_normalization_1[0][0]      \n__________________________________________________________________________________________________\nbatch_normalization_2 (BatchNor (None, 76, 166, 32)  128         conv2d_2[0][0]                   \n__________________________________________________________________________________________________\nmax_pooling2d_1 (MaxPooling2D)  (None, 38, 83, 32)   0           batch_normalization_2[0][0]      \n__________________________________________________________________________________________________\nconv2d_3 (Conv2D)               (None, 36, 81, 32)   9248        max_pooling2d_1[0][0]            \n__________________________________________________________________________________________________\nbatch_normalization_3 (BatchNor (None, 36, 81, 32)   128         conv2d_3[0][0]                   \n__________________________________________________________________________________________________\nconv2d_4 (Conv2D)               (None, 34, 79, 32)   9248        batch_normalization_3[0][0]      \n__________________________________________________________________________________________________\nbatch_normalization_4 (BatchNor (None, 34, 79, 32)   128         conv2d_4[0][0]                   \n__________________________________________________________________________________________________\nmax_pooling2d_2 (MaxPooling2D)  (None, 17, 39, 32)   0           batch_normalization_4[0][0]      \n__________________________________________________________________________________________________\nconv2d_5 (Conv2D)               (None, 15, 37, 32)   9248        max_pooling2d_2[0][0]            \n__________________________________________________________________________________________________\nbatch_normalization_5 (BatchNor (None, 15, 37, 32)   128         conv2d_5[0][0]                   \n__________________________________________________________________________________________________\nconv2d_6 (Conv2D)               (None, 13, 35, 32)   9248        batch_normalization_5[0][0]      \n__________________________________________________________________________________________________\nbatch_normalization_6 (BatchNor (None, 13, 35, 32)   128         conv2d_6[0][0]                   \n__________________________________________________________________________________________________\nmax_pooling2d_3 (MaxPooling2D)  (None, 6, 17, 32)    0           batch_normalization_6[0][0]      \n__________________________________________________________________________________________________\nconv2d_7 (Conv2D)               (None, 4, 15, 32)    9248        max_pooling2d_3[0][0]            \n__________________________________________________________________________________________________\nbatch_normalization_7 (BatchNor (None, 4, 15, 32)    128         conv2d_7[0][0]                   \n__________________________________________________________________________________________________\nconv2d_8 (Conv2D)               (None, 2, 13, 32)    9248        batch_normalization_7[0][0]      \n__________________________________________________________________________________________________\nbatch_normalization_8 (BatchNor (None, 2, 13, 32)    128         conv2d_8[0][0]                   \n__________________________________________________________________________________________________\nmax_pooling2d_4 (MaxPooling2D)  (None, 1, 13, 32)    0           batch_normalization_8[0][0]      \n__________________________________________________________________________________________________\nreshape_1 (Reshape)             (None, 13, 32)       0           max_pooling2d_4[0][0]            \n__________________________________________________________________________________________________\ndense_1 (Dense)                 (None, 13, 32)       1056        reshape_1[0][0]                  \n__________________________________________________________________________________________________\ndropout_1 (Dropout)             (None, 13, 32)       0           dense_1[0][0]                    \n__________________________________________________________________________________________________\ndense_2 (Dense)                 (None, 13, 37)       1221        dropout_1[0][0]                  \n__________________________________________________________________________________________________\nthe_labels (InputLayer)         (None, 4)            0                                            \n__________________________________________________________________________________________________\ninput_length (InputLayer)       (None, 1)            0                                            \n__________________________________________________________________________________________________\nlabel_length (InputLayer)       (None, 1)            0                                            \n__________________________________________________________________________________________________\nctc (Lambda)                    (None, 1)            0           dense_2[0][0]                    \n                                                                 the_labels[0][0]                 \n                                                                 input_length[0][0]               \n                                                                 label_length[0][0]               \n==================================================================================================\nTotal params: 68,933\nTrainable params: 68,421\nNon-trainable params: 512\n__________________________________________________________________________________________________\n"
     ]
    }
   ],
   "source": [
    "model.summary()"
   ]
  },
  {
   "cell_type": "code",
   "execution_count": 7,
   "metadata": {
    "colab": {},
    "colab_type": "code",
    "id": "5Jzb1YnqlJug"
   },
   "outputs": [],
   "source": [
    "##設計generator產生training data\n",
    "## 產生包含要給loss的資訊\n",
    "## X=輸入影像\n",
    "## np.ones(batch_size)*int(conv_shape[2])=CNN輸出feature Map寬度\n",
    "## np.ones(batch_size)*n_len=字串長度(可浮動)\n",
    "\n",
    "def gen(batch_size=128):\n",
    "    X = np.zeros((batch_size,height, width, 3), dtype=np.uint8)\n",
    "    y = np.zeros((batch_size, n_len), dtype=np.uint8)\n",
    "    while True:\n",
    "        generator = ImageCaptcha(width=width, height=height)\n",
    "        for i in range(batch_size):\n",
    "            random_str = ''.join([random.choice(characters) for j in range(4)])\n",
    "            X[i] = np.array(generator.generate_image(random_str))\n",
    "            y[i] = [characters.find(x) for x in random_str]\n",
    "        yield [X, y,np.ones(batch_size)*int(conv_shape[2]), np.ones(batch_size)*n_len], np.ones(batch_size)"
   ]
  },
  {
   "cell_type": "code",
   "execution_count": 82,
   "metadata": {
    "colab": {
     "base_uri": "https://localhost:8080/",
     "height": 225
    },
    "colab_type": "code",
    "id": "dfcFs6InVQaT",
    "outputId": "3f186d49-2e30-4efd-87c0-0670a58bc4c1"
   },
   "outputs": [
    {
     "output_type": "stream",
     "name": "stdout",
     "text": [
      "Label:  [[ 8 35 27 13]]\nCNN輸出寬度:  [13.]\n字串長度(可浮動):  [4.]\n"
     ]
    },
    {
     "output_type": "display_data",
     "data": {
      "text/plain": "<Figure size 432x288 with 1 Axes>",
      "image/png": "[encoded data removed]"
     },
     "metadata": {
      "image/png": {
       "width": 368,
       "height": 191
      },
      "needs_background": "light"
     }
    }
   ],
   "source": [
    "next_ge=gen(batch_size=1)\n",
    "test_ge=next(next_ge)\n",
    "plt.imshow(test_ge[0][0][0])\n",
    "print('Label: ',test_ge[0][1])\n",
    "print('CNN輸出寬度: ',test_ge[0][2])\n",
    "print('字串長度(可浮動): ',test_ge[0][3])"
   ]
  },
  {
   "cell_type": "markdown",
   "metadata": {},
   "source": [
    "## 開始訓練"
   ]
  },
  {
   "cell_type": "code",
   "execution_count": 9,
   "metadata": {
    "colab": {
     "base_uri": "https://localhost:8080/",
     "height": 1000
    },
    "colab_type": "code",
    "id": "fqdKnqollUKj",
    "outputId": "3da34151-a9df-4287-ead6-50c414d30e65"
   },
   "outputs": [
    {
     "output_type": "stream",
     "name": "stdout",
     "text": [
      "Epoch 1/60\n",
      "300/300 [==============================] - 40s 133ms/step - loss: 15.6849\n",
      "Epoch 2/60\n",
      "300/300 [==============================] - 36s 121ms/step - loss: 12.1186\n",
      "Epoch 3/60\n",
      "300/300 [==============================] - 37s 122ms/step - loss: 8.3945\n",
      "Epoch 4/60\n",
      "300/300 [==============================] - 38s 126ms/step - loss: 6.3435\n",
      "Epoch 5/60\n",
      "300/300 [==============================] - 37s 124ms/step - loss: 5.2279\n",
      "Epoch 6/60\n",
      "300/300 [==============================] - 38s 126ms/step - loss: 4.5055\n",
      "Epoch 7/60\n",
      "300/300 [==============================] - 38s 126ms/step - loss: 4.1167\n",
      "Epoch 8/60\n",
      "300/300 [==============================] - 38s 126ms/step - loss: 3.7890\n",
      "Epoch 9/60\n",
      "300/300 [==============================] - 38s 126ms/step - loss: 3.5796\n",
      "Epoch 10/60\n",
      "300/300 [==============================] - 37s 122ms/step - loss: 3.4044\n",
      "Epoch 11/60\n",
      "300/300 [==============================] - 36s 120ms/step - loss: 3.2139\n",
      "Epoch 12/60\n",
      "300/300 [==============================] - 37s 124ms/step - loss: 3.1708\n",
      "Epoch 13/60\n",
      "300/300 [==============================] - 36s 119ms/step - loss: 3.0308\n",
      "Epoch 14/60\n",
      "300/300 [==============================] - 35s 115ms/step - loss: 2.9534\n",
      "Epoch 15/60\n",
      "300/300 [==============================] - 35s 115ms/step - loss: 2.8630\n",
      "Epoch 16/60\n",
      "300/300 [==============================] - 34s 114ms/step - loss: 2.7390\n",
      "Epoch 17/60\n",
      "300/300 [==============================] - 34s 115ms/step - loss: 2.7021\n",
      "Epoch 18/60\n",
      "300/300 [==============================] - 35s 115ms/step - loss: 2.6827\n",
      "Epoch 19/60\n",
      "300/300 [==============================] - 35s 117ms/step - loss: 2.6676\n",
      "Epoch 20/60\n",
      "300/300 [==============================] - 35s 117ms/step - loss: 2.5793\n",
      "Epoch 21/60\n",
      "300/300 [==============================] - 35s 115ms/step - loss: 2.5426\n",
      "Epoch 22/60\n",
      "300/300 [==============================] - 34s 115ms/step - loss: 2.5073\n",
      "Epoch 23/60\n",
      "300/300 [==============================] - 35s 115ms/step - loss: 2.4982\n",
      "Epoch 24/60\n",
      "300/300 [==============================] - 34s 115ms/step - loss: 2.4104\n",
      "Epoch 25/60\n",
      "300/300 [==============================] - 34s 115ms/step - loss: 2.3939\n",
      "Epoch 26/60\n",
      "300/300 [==============================] - 34s 115ms/step - loss: 2.4068\n",
      "Epoch 27/60\n",
      "300/300 [==============================] - 35s 115ms/step - loss: 2.3450\n",
      "Epoch 28/60\n",
      "300/300 [==============================] - 35s 115ms/step - loss: 2.3114\n",
      "Epoch 29/60\n",
      "300/300 [==============================] - 35s 115ms/step - loss: 2.2155\n",
      "Epoch 30/60\n",
      "300/300 [==============================] - 34s 115ms/step - loss: 2.1933\n",
      "Epoch 31/60\n",
      "300/300 [==============================] - 35s 115ms/step - loss: 2.2106\n",
      "Epoch 32/60\n",
      "300/300 [==============================] - 34s 115ms/step - loss: 2.1734\n",
      "Epoch 33/60\n",
      "300/300 [==============================] - 35s 115ms/step - loss: 2.1296\n",
      "Epoch 34/60\n",
      "300/300 [==============================] - 34s 115ms/step - loss: 2.0890\n",
      "Epoch 35/60\n",
      "300/300 [==============================] - 34s 115ms/step - loss: 2.0767\n",
      "Epoch 36/60\n",
      "300/300 [==============================] - 34s 115ms/step - loss: 2.0326\n",
      "Epoch 37/60\n",
      "300/300 [==============================] - 35s 116ms/step - loss: 2.0795\n",
      "Epoch 38/60\n",
      "300/300 [==============================] - 35s 115ms/step - loss: 1.9368\n",
      "Epoch 39/60\n",
      "300/300 [==============================] - 35s 115ms/step - loss: 1.9400\n",
      "Epoch 40/60\n",
      "300/300 [==============================] - 34s 115ms/step - loss: 1.9387\n",
      "Epoch 41/60\n",
      "300/300 [==============================] - 34s 115ms/step - loss: 1.9362\n",
      "Epoch 42/60\n",
      "300/300 [==============================] - 35s 115ms/step - loss: 1.9112\n",
      "Epoch 43/60\n",
      "300/300 [==============================] - 34s 114ms/step - loss: 1.8237\n",
      "Epoch 44/60\n",
      "300/300 [==============================] - 34s 115ms/step - loss: 1.8211\n",
      "Epoch 45/60\n",
      "300/300 [==============================] - 34s 115ms/step - loss: 1.8038\n",
      "Epoch 46/60\n",
      "300/300 [==============================] - 35s 115ms/step - loss: 1.8517\n",
      "Epoch 47/60\n",
      "300/300 [==============================] - 35s 115ms/step - loss: 1.7906\n",
      "Epoch 48/60\n",
      "300/300 [==============================] - 34s 115ms/step - loss: 1.6731\n",
      "Epoch 49/60\n",
      "300/300 [==============================] - 34s 115ms/step - loss: 1.6827\n",
      "Epoch 50/60\n",
      "300/300 [==============================] - 34s 115ms/step - loss: 1.7402\n",
      "Epoch 51/60\n",
      "300/300 [==============================] - 34s 115ms/step - loss: 1.6572\n",
      "Epoch 52/60\n",
      "300/300 [==============================] - 34s 114ms/step - loss: 1.6314\n",
      "Epoch 53/60\n",
      "300/300 [==============================] - 34s 115ms/step - loss: 1.6555\n",
      "Epoch 54/60\n",
      "300/300 [==============================] - 34s 115ms/step - loss: 1.6216\n",
      "Epoch 55/60\n",
      "300/300 [==============================] - 34s 115ms/step - loss: 1.5722\n",
      "Epoch 56/60\n",
      "300/300 [==============================] - 34s 115ms/step - loss: 1.5560\n",
      "Epoch 57/60\n",
      "300/300 [==============================] - 34s 115ms/step - loss: 1.5286\n",
      "Epoch 58/60\n",
      "300/300 [==============================] - 34s 114ms/step - loss: 1.5682\n",
      "Epoch 59/60\n",
      "300/300 [==============================] - 35s 115ms/step - loss: 1.5371\n",
      "Epoch 60/60\n",
      "300/300 [==============================] - 34s 115ms/step - loss: 1.4680\n"
     ]
    },
    {
     "output_type": "execute_result",
     "data": {
      "text/plain": [
       "<keras.callbacks.callbacks.History at 0x1f4a9032198>"
      ]
     },
     "metadata": {},
     "execution_count": 9
    }
   ],
   "source": [
    "model.fit_generator(gen(32), steps_per_epoch=300, epochs=60)"
   ]
  },
  {
   "cell_type": "markdown",
   "metadata": {},
   "source": [
    "## 預測"
   ]
  },
  {
   "cell_type": "code",
   "execution_count": 17,
   "metadata": {},
   "outputs": [
    {
     "output_type": "display_data",
     "data": {
      "text/plain": "<Figure size 432x288 with 1 Axes>",
      "image/png": "[encoded data removed]"
     },
     "metadata": {
      "image/png": {
       "width": 368,
       "height": 217
      },
      "needs_background": "light"
     }
    }
   ],
   "source": [
    "characters2 = characters + ' '\n",
    "[X_test, y_test, _, _], _  = next(gen(1))\n",
    "y_pred = base_model.predict(X_test)\n",
    "##用ctc_decode得到解答，自己寫可以參考下方\n",
    "out = K.get_value(K.ctc_decode(y_pred, input_length=np.ones(y_pred.shape[0])*y_pred.shape[1], )[0][0])\n",
    "out = ''.join([characters[x] for x in out[0]])\n",
    "y_true = ''.join([characters[x] for x in y_test[0]])\n",
    "\n",
    "plt.imshow(X_test[0])\n",
    "plt.title('pred:' + str(out) + '\\ntrue: ' + str(y_true))\n",
    "\n",
    "argmax = np.argmax(y_pred, axis=2)[0]"
   ]
  },
  {
   "cell_type": "markdown",
   "metadata": {},
   "source": [
    "## 自己寫 decode CTC"
   ]
  },
  {
   "cell_type": "code",
   "execution_count": 20,
   "metadata": {},
   "outputs": [],
   "source": [
    "## 其中0代表預測為空格，如果預測相同字符之間沒有空格要移除\n",
    "word=''\n",
    "n=''\n",
    "for single_result in y_pred[0].argmax(1):\n",
    "    if single_result != 36:\n",
    "        if n != single_result:\n",
    "            word+=characters[single_result]\n",
    "    n=single_result "
   ]
  },
  {
   "cell_type": "code",
   "execution_count": 21,
   "metadata": {},
   "outputs": [
    {
     "output_type": "stream",
     "name": "stdout",
     "text": [
      "36\n"
     ]
    }
   ],
   "source": [
    "print(n)"
   ]
  },
  {
   "cell_type": "markdown",
   "metadata": {},
   "source": [
    "## 額外參考：加入RNN的神經網路"
   ]
  },
  {
   "cell_type": "code",
   "execution_count": 22,
   "metadata": {},
   "outputs": [
    {
     "output_type": "stream",
     "name": "stderr",
     "text": [
      "ipykernel_launcher:8: UserWarning: Update your `Conv2D` call to the Keras 2 API: `Conv2D(32, (3, 3), activation=\"relu\")`\n",
      "ipykernel_launcher:10: UserWarning: Update your `Conv2D` call to the Keras 2 API: `Conv2D(32, (3, 3), activation=\"relu\")`\n",
      "ipykernel_launcher:23: UserWarning: Update your `GRU` call to the Keras 2 API: `GRU(128, return_sequences=True, name=\"gru1\", kernel_initializer=\"he_normal\")`\n",
      "ipykernel_launcher:25: UserWarning: Update your `GRU` call to the Keras 2 API: `GRU(128, return_sequences=True, go_backwards=True, name=\"gru1_b\", kernel_initializer=\"he_normal\")`\n",
      "ipykernel_launcher:28: UserWarning: Update your `GRU` call to the Keras 2 API: `GRU(128, return_sequences=True, name=\"gru2\", kernel_initializer=\"he_normal\")`\n",
      "ipykernel_launcher:30: UserWarning: Update your `GRU` call to the Keras 2 API: `GRU(128, return_sequences=True, go_backwards=True, name=\"gru2_b\", kernel_initializer=\"he_normal\")`\n",
      "ipykernel_launcher:34: UserWarning: Update your `Dense` call to the Keras 2 API: `Dense(37, activation=\"softmax\", kernel_initializer=\"he_normal\")`\n",
      "ipykernel_launcher:36: UserWarning: Update your `Model` call to the Keras 2 API: `Model(inputs=Tensor(\"in..., outputs=Tensor(\"de...)`\n",
      "ipykernel_launcher:44: UserWarning: Update your `Model` call to the Keras 2 API: `Model(inputs=[<tf.Tenso..., outputs=[<tf.Tenso...)`\n"
     ]
    }
   ],
   "source": [
    "from keras.models import *\n",
    "from keras.layers import *\n",
    "rnn_size = 128\n",
    "\n",
    "input_tensor = Input((height,width, 3))\n",
    "x = input_tensor\n",
    "for i in range(4):\n",
    "    x = Convolution2D(32, 3, 3, activation='relu')(x)\n",
    "    x = keras.layers.BatchNormalization(axis=-1)(x)\n",
    "    x = Convolution2D(32, 3, 3, activation='relu')(x)\n",
    "    x = keras.layers.BatchNormalization(axis=-1)(x)\n",
    "    if i <3:\n",
    "        x = MaxPooling2D(pool_size=(2, 2))(x)\n",
    "    else:\n",
    "        x = MaxPooling2D(pool_size=(2, 1))(x)\n",
    "\n",
    "\n",
    "conv_shape = x.get_shape()\n",
    "x = Reshape(target_shape=(int(conv_shape[2]), int(conv_shape[1]*conv_shape[3])))(x)\n",
    "\n",
    "x = Dense(32, activation='relu')(x)\n",
    "\n",
    "gru_1 = GRU(rnn_size, return_sequences=True, init='he_normal', name='gru1')(x)\n",
    "gru_1b = GRU(rnn_size, return_sequences=True, go_backwards=True, \n",
    "             init='he_normal', name='gru1_b')(x)\n",
    "gru1_merged = keras.layers.add([gru_1, gru_1b])\n",
    "\n",
    "gru_2 = GRU(rnn_size, return_sequences=True, init='he_normal', name='gru2')(gru1_merged)\n",
    "gru_2b = GRU(rnn_size, return_sequences=True, go_backwards=True, \n",
    "             init='he_normal', name='gru2_b')(gru1_merged)\n",
    "x = keras.layers.Concatenate()([gru_2, gru_2b])\n",
    "\n",
    "x = Dropout(0.25)(x)\n",
    "x = Dense(n_class, init='he_normal', activation='softmax')(x)\n",
    "\n",
    "base_model = Model(input=input_tensor, output=x)\n",
    "\n",
    "labels = Input(name='the_labels', shape=[n_len], dtype='float32')\n",
    "input_length = Input(name='input_length', shape=[1], dtype='int64')\n",
    "label_length = Input(name='label_length', shape=[1], dtype='int64')\n",
    "loss_out = Lambda(ctc_lambda_func, output_shape=(1,), \n",
    "                  name='ctc')([x, labels, input_length, label_length])\n",
    "\n",
    "model = Model(input=[input_tensor, labels, input_length, label_length], output=[loss_out])\n",
    "model.compile(loss={'ctc': lambda y_true, y_pred: y_pred}, optimizer='Adam')"
   ]
  },
  {
   "cell_type": "code",
   "execution_count": 23,
   "metadata": {},
   "outputs": [
    {
     "output_type": "stream",
     "name": "stdout",
     "text": [
      "Model: \"model_4\"\n__________________________________________________________________________________________________\nLayer (type)                    Output Shape         Param #     Connected to                     \n==================================================================================================\ninput_2 (InputLayer)            (None, 80, 170, 3)   0                                            \n__________________________________________________________________________________________________\nconv2d_9 (Conv2D)               (None, 78, 168, 32)  896         input_2[0][0]                    \n__________________________________________________________________________________________________\nbatch_normalization_9 (BatchNor (None, 78, 168, 32)  128         conv2d_9[0][0]                   \n__________________________________________________________________________________________________\nconv2d_10 (Conv2D)              (None, 76, 166, 32)  9248        batch_normalization_9[0][0]      \n__________________________________________________________________________________________________\nbatch_normalization_10 (BatchNo (None, 76, 166, 32)  128         conv2d_10[0][0]                  \n__________________________________________________________________________________________________\nmax_pooling2d_5 (MaxPooling2D)  (None, 38, 83, 32)   0           batch_normalization_10[0][0]     \n__________________________________________________________________________________________________\nconv2d_11 (Conv2D)              (None, 36, 81, 32)   9248        max_pooling2d_5[0][0]            \n__________________________________________________________________________________________________\nbatch_normalization_11 (BatchNo (None, 36, 81, 32)   128         conv2d_11[0][0]                  \n__________________________________________________________________________________________________\nconv2d_12 (Conv2D)              (None, 34, 79, 32)   9248        batch_normalization_11[0][0]     \n__________________________________________________________________________________________________\nbatch_normalization_12 (BatchNo (None, 34, 79, 32)   128         conv2d_12[0][0]                  \n__________________________________________________________________________________________________\nmax_pooling2d_6 (MaxPooling2D)  (None, 17, 39, 32)   0           batch_normalization_12[0][0]     \n__________________________________________________________________________________________________\nconv2d_13 (Conv2D)              (None, 15, 37, 32)   9248        max_pooling2d_6[0][0]            \n__________________________________________________________________________________________________\nbatch_normalization_13 (BatchNo (None, 15, 37, 32)   128         conv2d_13[0][0]                  \n__________________________________________________________________________________________________\nconv2d_14 (Conv2D)              (None, 13, 35, 32)   9248        batch_normalization_13[0][0]     \n__________________________________________________________________________________________________\nbatch_normalization_14 (BatchNo (None, 13, 35, 32)   128         conv2d_14[0][0]                  \n__________________________________________________________________________________________________\nmax_pooling2d_7 (MaxPooling2D)  (None, 6, 17, 32)    0           batch_normalization_14[0][0]     \n__________________________________________________________________________________________________\nconv2d_15 (Conv2D)              (None, 4, 15, 32)    9248        max_pooling2d_7[0][0]            \n__________________________________________________________________________________________________\nbatch_normalization_15 (BatchNo (None, 4, 15, 32)    128         conv2d_15[0][0]                  \n__________________________________________________________________________________________________\nconv2d_16 (Conv2D)              (None, 2, 13, 32)    9248        batch_normalization_15[0][0]     \n__________________________________________________________________________________________________\nbatch_normalization_16 (BatchNo (None, 2, 13, 32)    128         conv2d_16[0][0]                  \n__________________________________________________________________________________________________\nmax_pooling2d_8 (MaxPooling2D)  (None, 1, 13, 32)    0           batch_normalization_16[0][0]     \n__________________________________________________________________________________________________\nreshape_2 (Reshape)             (None, 13, 32)       0           max_pooling2d_8[0][0]            \n__________________________________________________________________________________________________\ndense_3 (Dense)                 (None, 13, 32)       1056        reshape_2[0][0]                  \n__________________________________________________________________________________________________\ngru1 (GRU)                      (None, 13, 128)      61824       dense_3[0][0]                    \n__________________________________________________________________________________________________\ngru1_b (GRU)                    (None, 13, 128)      61824       dense_3[0][0]                    \n__________________________________________________________________________________________________\nadd_1 (Add)                     (None, 13, 128)      0           gru1[0][0]                       \n                                                                 gru1_b[0][0]                     \n__________________________________________________________________________________________________\ngru2 (GRU)                      (None, 13, 128)      98688       add_1[0][0]                      \n__________________________________________________________________________________________________\ngru2_b (GRU)                    (None, 13, 128)      98688       add_1[0][0]                      \n__________________________________________________________________________________________________\nconcatenate_1 (Concatenate)     (None, 13, 256)      0           gru2[0][0]                       \n                                                                 gru2_b[0][0]                     \n__________________________________________________________________________________________________\ndropout_2 (Dropout)             (None, 13, 256)      0           concatenate_1[0][0]              \n__________________________________________________________________________________________________\ndense_4 (Dense)                 (None, 13, 37)       9509        dropout_2[0][0]                  \n__________________________________________________________________________________________________\nthe_labels (InputLayer)         (None, 4)            0                                            \n__________________________________________________________________________________________________\ninput_length (InputLayer)       (None, 1)            0                                            \n__________________________________________________________________________________________________\nlabel_length (InputLayer)       (None, 1)            0                                            \n__________________________________________________________________________________________________\nctc (Lambda)                    (None, 1)            0           dense_4[0][0]                    \n                                                                 the_labels[0][0]                 \n                                                                 input_length[0][0]               \n                                                                 label_length[0][0]               \n==================================================================================================\nTotal params: 398,245\nTrainable params: 397,733\nNon-trainable params: 512\n__________________________________________________________________________________________________\n"
     ]
    }
   ],
   "source": [
    "model.summary()"
   ]
  },
  {
   "cell_type": "code",
   "execution_count": null,
   "metadata": {},
   "outputs": [],
   "source": []
  }
 ],
 "metadata": {
  "accelerator": "GPU",
  "colab": {
   "collapsed_sections": [],
   "name": "Captcha.ipynb",
   "provenance": []
  },
  "kernelspec": {
   "display_name": "geo2",
   "language": "python",
   "name": "geo2"
  },
  "language_info": {
   "codemirror_mode": {
    "name": "ipython",
    "version": 3
   },
   "file_extension": ".py",
   "mimetype": "text/x-python",
   "name": "python",
   "nbconvert_exporter": "python",
   "pygments_lexer": "ipython3",
   "version": "3.7.0"
  }
 },
 "nbformat": 4,
 "nbformat_minor": 1
}