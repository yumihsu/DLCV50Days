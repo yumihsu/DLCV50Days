{
 "cells": [
  {
   "cell_type": "markdown",
   "metadata": {},
   "source": [
    "## 『本次練習內容』\n",
    "#### 學習如何搭建Inception Block"
   ]
  },
  {
   "cell_type": "markdown",
   "metadata": {},
   "source": [
    "## 『本次練習目的』\n",
    "  #### 了解Inceotion原理\n",
    "  #### 了解如何導入Inception block到原本架構中"
   ]
  },
  {
   "cell_type": "markdown",
   "metadata": {},
   "source": [
    "---"
   ]
  },
  {
   "cell_type": "markdown",
   "metadata": {},
   "source": [
    "![Incpeiton](Inception架構.png)"
   ]
  },
  {
   "cell_type": "code",
   "execution_count": 62,
   "metadata": {},
   "outputs": [],
   "source": [
    "import numpy as np\n",
    "from keras.models import Model\n",
    "from keras.layers import Flatten\n",
    "from keras.layers import Dense\n",
    "from keras.layers import Input\n",
    "from keras.layers import Conv2D\n",
    "from keras.layers import MaxPooling2D\n",
    "from keras.layers import GlobalMaxPooling2D\n",
    "from keras.layers import GlobalAveragePooling2D\n",
    "from keras import backend as K\n",
    "from keras import layers\n",
    "from keras.layers import BatchNormalization\n",
    "from keras.layers import Activation"
   ]
  },
  {
   "cell_type": "markdown",
   "metadata": {},
   "source": [
    "## 導入InceptionV2-有BatchNormalization的Convolution"
   ]
  },
  {
   "cell_type": "code",
   "execution_count": 63,
   "metadata": {},
   "outputs": [],
   "source": [
    "def Conv2d_bn(x,filters,kernel_size,padding='same',strides=(1, 1),normalizer=True,activation='relu',name=None):\n",
    "    if name is not None:\n",
    "        conv_name = name + '_conv'\n",
    "        bn_name = name + '_bn'\n",
    "        act_name = name + '_act'\n",
    "    else:\n",
    "        conv_name = None\n",
    "        bn_name = None\n",
    "        act_name = None\n",
    "    if K.image_data_format() == 'channels_first':\n",
    "        bn_axis = 1\n",
    "    else:\n",
    "        bn_axis = 3\n",
    "    x = Conv2D(\n",
    "            filters, kernel_size,\n",
    "            strides=strides, padding=padding,\n",
    "            use_bias=False, name=conv_name)(x)\n",
    "    if normalizer:\n",
    "        x = BatchNormalization(axis=bn_axis, scale=False, name=bn_name)(x)\n",
    "    if activation:\n",
    "        x = Activation(activation, name=act_name)(x)\n",
    "    return x"
   ]
  },
  {
   "cell_type": "markdown",
   "metadata": {},
   "source": [
    "## 參考上圖搭建 InceptionV1_block"
   ]
  },
  {
   "cell_type": "code",
   "execution_count": 64,
   "metadata": {},
   "outputs": [],
   "source": [
    "def InceptionV1_block(x, specs,channel_axis, name):\n",
    "    (br0, br1, br2, br3) = specs   # ((64,), (96,128), (16,32), (32,))\n",
    "    branch_0 = Conv2d_bn(x, br0[0], (1, 1), name=name+\"_Branch_0\")\n",
    "\n",
    "    branch_1 = Conv2d_bn(x, br1[0], (1, 1), name=name+\"_Branch_1\")\n",
    "    branch_1 = Conv2d_bn(branch_1, br1[1], (3, 3), name=name+\"_Branch_1_1\")\n",
    "\n",
    "    branch_2 = Conv2d_bn(x, br2[0], (1, 1), name=name+\"_Branch_2\")\n",
    "    branch_2 = Conv2d_bn(branch_2, br2[1], (3, 3), name=name+\"_Branch_2_1\")\n",
    "\n",
    "    branch_3 = MaxPooling2D(pool_size=(3, 3) ,padding='same',strides= (1,1))(x)\n",
    "    branch_3 = Conv2d_bn(branch_3, br3[0], (1, 1), name=name+\"_Branch_3\")\n",
    "\n",
    "    x = layers.concatenate(\n",
    "        [branch_0, branch_1, branch_2, branch_3],\n",
    "        axis=channel_axis,\n",
    "        name=name+\"_Concatenated\")\n",
    "    return x"
   ]
  },
  {
   "cell_type": "markdown",
   "metadata": {},
   "source": [
    "## 測試"
   ]
  },
  {
   "cell_type": "code",
   "execution_count": 65,
   "metadata": {},
   "outputs": [
    {
     "output_type": "stream",
     "name": "stdout",
     "text": [
      "Tensor(\"Block_1_Concatenated_5/concat:0\", shape=(None, 224, 224, 256), dtype=float32)\n"
     ]
    }
   ],
   "source": [
    "img_input = Input(shape=(224,224,1))\n",
    "x=InceptionV1_block(img_input, ((64,), (96,128), (16,32), (32,)), 3, 'Block_1')\n",
    "print(x)"
   ]
  },
  {
   "cell_type": "markdown",
   "metadata": {},
   "source": [
    "## 將 InceptionV1_block中n*n卷積改為1 x n+n x 1"
   ]
  },
  {
   "cell_type": "code",
   "execution_count": 66,
   "metadata": {},
   "outputs": [],
   "source": [
    "def InceptionV3_block(x, specs,channel_axis, name):\n",
    "    (br0, br1, br2, br3) = specs   # ((64,), (96,128), (16,32), (32,))\n",
    "    branch_0 = Conv2d_bn(x, br0[0], (1, 1), name=name+\"_Branch_0\")\n",
    "\n",
    "    branch_1 = Conv2d_bn(x, br1[0], (1, 1), name=name+\"_Branch_1\")\n",
    "    branch_1 = Conv2d_bn(branch_1, br1[1], (1, 3), name=name+\"_Branch_1_1\")\n",
    "    branch_1 = Conv2d_bn(branch_1, br1[1], (3, 1), name=name+\"_Branch_1_2\")\n",
    "\n",
    "\n",
    "    branch_2 = Conv2d_bn(x, br2[0], (1, 1), name=name+\"_Branch_2\")\n",
    "    branch_2 = Conv2d_bn(branch_2, br2[1], (3, 1), name=name+\"_Branch_2_1\")\n",
    "    branch_2 = Conv2d_bn(branch_2, br2[1], (1, 3), name=name+\"_Branch_2_2\")\n",
    "\n",
    "\n",
    "    branch_3 = MaxPooling2D(pool_size=(3, 3) ,padding='same',strides= (1,1) ,name  =name +\"_Branch_3\")(x)\n",
    "    branch_3 = Conv2d_bn(branch_3, br3[0], (1, 1), name=name+\"_Branch_3_1\")\n",
    "\n",
    "    x = layers.concatenate(\n",
    "        [branch_0, branch_1, branch_2, branch_3],\n",
    "        axis=channel_axis,\n",
    "        name=name+\"_Concatenated\")\n",
    "    return x"
   ]
  },
  {
   "cell_type": "markdown",
   "metadata": {},
   "source": [
    "## 測試"
   ]
  },
  {
   "cell_type": "code",
   "execution_count": 67,
   "metadata": {},
   "outputs": [
    {
     "output_type": "stream",
     "name": "stdout",
     "text": [
      "Tensor(\"Block_1_Concatenated_6/concat:0\", shape=(None, 224, 224, 256), dtype=float32)\n"
     ]
    }
   ],
   "source": [
    "img_input = Input(shape=(224,224,1))\n",
    "x=InceptionV3_block(img_input, ((64,), (96,128), (16,32), (32,)), 3, 'Block_1')\n",
    "print(x)"
   ]
  },
  {
   "cell_type": "markdown",
   "metadata": {},
   "source": [
    "---"
   ]
  },
  {
   "cell_type": "markdown",
   "metadata": {},
   "source": [
    "## 額外練習"
   ]
  },
  {
   "cell_type": "markdown",
   "metadata": {},
   "source": [
    "## 將VGG16 Block_3中的Convolution全部改為InceptionV1_block\n",
    "## Block_5中的Convolution全部改為InceptionV3_block\n",
    "## 並將所有Convolution改為Conv2d_bn"
   ]
  },
  {
   "cell_type": "markdown",
   "metadata": {},
   "source": [
    "#### 原vgg16架構"
   ]
  },
  {
   "cell_type": "code",
   "execution_count": 69,
   "metadata": {},
   "outputs": [],
   "source": [
    "def VGG16_Inception(include_top=True,input_tensor=None, input_shape=(224,224,1),pooling='max',classes=1000):\n",
    "    img_input = Input(shape=input_shape)\n",
    "\n",
    "    x = Conv2D(64, (3, 3), activation='relu', padding='same', name='block1_conv1')(img_input)\n",
    "    x = Conv2D(64, (3, 3), activation='relu', padding='same', name='block1_conv2')(x)\n",
    "    x = MaxPooling2D((2, 2), strides=(2, 2), name='block1_pool')(x)\n",
    "\n",
    "    # Block 2\n",
    "    x = Conv2D(128, (3, 3), activation='relu', padding='same', name='block2_conv1')(x)\n",
    "    x = Conv2D(128, (3, 3), activation='relu', padding='same', name='block2_conv2')(x)\n",
    "    x = MaxPooling2D((2, 2), strides=(2, 2), name='block2_pool')(x)\n",
    "\n",
    "    # Block 3\n",
    "    x = Conv2D(256, (3, 3), activation='relu', padding='same', name='block3_conv1')(x)\n",
    "    x = Conv2D(256, (3, 3), activation='relu', padding='same', name='block3_conv2')(x)\n",
    "    x = Conv2D(256, (3, 3), activation='relu', padding='same', name='block3_conv3')(x)\n",
    "    x = MaxPooling2D((2, 2), strides=(2, 2), name='block3_pool')(x)\n",
    "\n",
    "    # Block 4\n",
    "    x = Conv2D(512, (3, 3), activation='relu', padding='same', name='block4_conv1')(x)\n",
    "    x = Conv2D(512, (3, 3), activation='relu', padding='same', name='block4_conv2')(x)\n",
    "    x = Conv2D(512, (3, 3), activation='relu', padding='same', name='block4_conv3')(x)\n",
    "    x = MaxPooling2D((2, 2), strides=(2, 2), name='block4_pool')(x)\n",
    "\n",
    "    # Block 5\n",
    "    x = Conv2D(512, (3, 3), activation='relu', padding='same', name='block5_conv1')(x)\n",
    "    x = Conv2D(512, (3, 3), activation='relu', padding='same', name='block5_conv2')(x)\n",
    "    x = Conv2D(512, (3, 3), activation='relu', padding='same', name='block5_conv3')(x)\n",
    "    x = MaxPooling2D((2, 2), strides=(2, 2), name='block5_pool')(x)\n",
    "\n",
    "    if include_top:\n",
    "        # Classification block\n",
    "        x = Flatten(name='flatten')(x)\n",
    "        x = Dense(4096, activation='relu', name='fc1')(x)\n",
    "        x = Dense(4096, activation='relu', name='fc2')(x)\n",
    "        x = Dense(classes, activation='softmax', name='predictions')(x)\n",
    "    else:\n",
    "        if pooling == 'avg':\n",
    "            x = GlobalAveragePooling2D()(x)\n",
    "        elif pooling == 'max':\n",
    "            x = GlobalMaxPooling2D()(x)\n",
    "\n",
    "    inputs = img_input\n",
    "    # Create model.\n",
    "    model = Model(inputs, x, name='vgg16')\n",
    "\n",
    "   \n",
    "    return model\n",
    "\n"
   ]
  },
  {
   "cell_type": "markdown",
   "metadata": {},
   "source": [
    "#### 修改後"
   ]
  },
  {
   "cell_type": "code",
   "execution_count": 73,
   "metadata": {},
   "outputs": [],
   "source": [
    "def Conv2d_bn(x,filters,kernel_size,padding='same',strides=(1, 1),normalizer=True,activation='relu',name=None):\n",
    "    if name is not None:\n",
    "        conv_name = name + '_conv'\n",
    "        bn_name = name + '_bn'\n",
    "        act_name = name + '_act'\n",
    "    else:\n",
    "        conv_name = None\n",
    "        bn_name = None\n",
    "        act_name = None\n",
    "    if K.image_data_format == 'channel_first':\n",
    "        axis = 3\n",
    "    else:\n",
    "        axis = 1\n",
    "    x = Conv2D(filters,kernel_size, padding = padding, strides = strides ,use_bias=False ,name = conv_name)(x)\n",
    "    if normalizer:\n",
    "        x = BatchNormalization(axis = axis ,scale= False , name = bn_name)(x)\n",
    "    if activation:\n",
    "        x = Activation(activation , name = act_name)(x)\n",
    "    return x"
   ]
  },
  {
   "cell_type": "code",
   "execution_count": 80,
   "metadata": {},
   "outputs": [],
   "source": [
    "\n",
    "\n",
    "def VGG16_Inception(include_top=True,input_tensor=None, input_shape=(224,224,1),\n",
    "          pooling='max',classes=1000):\n",
    " \n",
    "    img_input = Input(shape=input_shape)\n",
    "\n",
    "    x = Conv2d_bn(img_input ,64, (3, 3), activation='relu', padding='same', name='block1_conv1')\n",
    "    x = Conv2d_bn(x,64, (3, 3), activation='relu', padding='same', name='block1_conv2')\n",
    "    x = MaxPooling2D((2, 2), strides=(2, 2), name='block1_pool')(x)\n",
    "\n",
    "    # Block 2\n",
    "    x = Conv2d_bn(x,128, (3, 3), activation='relu', padding='same', name='block2_conv1')\n",
    "    x = Conv2d_bn(x,128, (3, 3), activation='relu', padding='same', name='block2_conv2')\n",
    "    x = MaxPooling2D((2, 2), strides=(2, 2), name='block2_pool')(x)\n",
    "\n",
    "    # Block 3\n",
    "    x = InceptionV1_block(x,((64,),(96,128),(16,32),(32,)), 3, 'block3_Incept1')\n",
    "    x = InceptionV1_block(x,((64,),(96,128),(16,32),(32,)), 3, 'block3_Incept2')\n",
    "    x = InceptionV1_block(x,((64,),(96,128),(16,32),(32,)), 3, 'block3_Incept3')\n",
    "    x = MaxPooling2D((2, 2), strides=(2, 2), name='block3_pool')(x)\n",
    "\n",
    "    # Block 4\n",
    "    x = Conv2d_bn(x, 512, (3, 3), activation='relu', padding='same', name='block4_conv1')\n",
    "    x = Conv2d_bn(x, 512, (3, 3), activation='relu', padding='same', name='block4_conv2')\n",
    "    x = Conv2d_bn(x, 512, (3, 3), activation='relu', padding='same', name='block4_conv3')\n",
    "    x = MaxPooling2D((2, 2), strides=(2, 2), name='block4_pool')(x)\n",
    "\n",
    "    # Block 5\n",
    "    x = InceptionV3_block(x,((128,),(16,32),(128,64),(32,)), 3,'block5_Incept1')\n",
    "    x = InceptionV3_block(x,((128,),(16,32),(128,64),(32,)), 3,'block5_Incept2')\n",
    "    x = InceptionV3_block(x,((128,),(16,32),(128,64),(32,)), 3,'block5_Incept3')\n",
    "    x = MaxPooling2D((2, 2), strides=(2, 2), name='block5_pool')(x)\n",
    "\n",
    "    if include_top:\n",
    "        # Classification block\n",
    "        x = Flatten(name='flatten')(x)\n",
    "        x = Dense(4096, activation='relu', name='fc1')(x)\n",
    "        x = Dense(4096, activation='relu', name='fc2')(x)\n",
    "        x = Dense(classes, activation='softmax', name='predictions')(x)\n",
    "    else:\n",
    "        if pooling == 'avg':\n",
    "            x = GlobalAveragePooling2D()(x)\n",
    "        elif pooling == 'max':\n",
    "            x = GlobalMaxPooling2D()(x)\n",
    "\n",
    "    inputs = img_input\n",
    "    # Create model.\n",
    "    model = Model(inputs, x, name='vgg16')\n",
    "\n",
    "   \n",
    "    return model\n",
    "\n"
   ]
  },
  {
   "cell_type": "code",
   "execution_count": 81,
   "metadata": {},
   "outputs": [
    {
     "output_type": "stream",
     "name": "stdout",
     "text": [
      "tf.__version__ is 2.1.0\ntf.keras.__version__ is: 2.2.4-tf\n"
     ]
    }
   ],
   "source": [
    "import tensorflow as tf\n",
    "import keras.backend.tensorflow_backend as tfback\n",
    "\n",
    "print(\"tf.__version__ is\", tf.__version__)\n",
    "print(\"tf.keras.__version__ is:\", tf.keras.__version__)\n",
    "\n",
    "def _get_available_gpus():\n",
    "    \"\"\"Get a list of available gpu devices (formatted as strings).\n",
    "\n",
    "    # Returns\n",
    "        A list of available GPU devices.\n",
    "    \"\"\"\n",
    "    #global _LOCAL_DEVICES\n",
    "    if tfback._LOCAL_DEVICES is None:\n",
    "        devices = tf.config.list_logical_devices()\n",
    "        tfback._LOCAL_DEVICES = [x.name for x in devices]\n",
    "    return [x for x in tfback._LOCAL_DEVICES if 'device:gpu' in x.lower()]\n",
    "\n",
    "tfback._get_available_gpus = _get_available_gpus"
   ]
  },
  {
   "cell_type": "code",
   "execution_count": 82,
   "metadata": {},
   "outputs": [],
   "source": [
    "model = VGG16_Inception(include_top=False)"
   ]
  },
  {
   "cell_type": "code",
   "execution_count": 83,
   "metadata": {},
   "outputs": [
    {
     "output_type": "stream",
     "name": "stdout",
     "text": [
      "Model: \"vgg16\"\n__________________________________________________________________________________________________\nLayer (type)                    Output Shape         Param #     Connected to                     \n==================================================================================================\ninput_25 (InputLayer)           (None, 224, 224, 1)  0                                            \n__________________________________________________________________________________________________\nblock1_conv1_conv (Conv2D)      (None, 224, 224, 64) 576         input_25[0][0]                   \n__________________________________________________________________________________________________\nblock1_conv1_bn (BatchNormaliza (None, 224, 224, 64) 672         block1_conv1_conv[0][0]          \n__________________________________________________________________________________________________\nblock1_conv1_act (Activation)   (None, 224, 224, 64) 0           block1_conv1_bn[0][0]            \n__________________________________________________________________________________________________\nblock1_conv2_conv (Conv2D)      (None, 224, 224, 64) 36864       block1_conv1_act[0][0]           \n__________________________________________________________________________________________________\nblock1_conv2_bn (BatchNormaliza (None, 224, 224, 64) 672         block1_conv2_conv[0][0]          \n__________________________________________________________________________________________________\nblock1_conv2_act (Activation)   (None, 224, 224, 64) 0           block1_conv2_bn[0][0]            \n__________________________________________________________________________________________________\nblock1_pool (MaxPooling2D)      (None, 112, 112, 64) 0           block1_conv2_act[0][0]           \n__________________________________________________________________________________________________\nblock2_conv1_conv (Conv2D)      (None, 112, 112, 128 73728       block1_pool[0][0]                \n__________________________________________________________________________________________________\nblock2_conv1_bn (BatchNormaliza (None, 112, 112, 128 336         block2_conv1_conv[0][0]          \n__________________________________________________________________________________________________\nblock2_conv1_act (Activation)   (None, 112, 112, 128 0           block2_conv1_bn[0][0]            \n__________________________________________________________________________________________________\nblock2_conv2_conv (Conv2D)      (None, 112, 112, 128 147456      block2_conv1_act[0][0]           \n__________________________________________________________________________________________________\nblock2_conv2_bn (BatchNormaliza (None, 112, 112, 128 336         block2_conv2_conv[0][0]          \n__________________________________________________________________________________________________\nblock2_conv2_act (Activation)   (None, 112, 112, 128 0           block2_conv2_bn[0][0]            \n__________________________________________________________________________________________________\nblock2_pool (MaxPooling2D)      (None, 56, 56, 128)  0           block2_conv2_act[0][0]           \n__________________________________________________________________________________________________\nblock3_Incept1_Branch_1_conv (C (None, 56, 56, 96)   12288       block2_pool[0][0]                \n__________________________________________________________________________________________________\nblock3_Incept1_Branch_2_conv (C (None, 56, 56, 16)   2048        block2_pool[0][0]                \n__________________________________________________________________________________________________\nblock3_Incept1_Branch_1_bn (Bat (None, 56, 56, 96)   168         block3_Incept1_Branch_1_conv[0][0\n__________________________________________________________________________________________________\nblock3_Incept1_Branch_2_bn (Bat (None, 56, 56, 16)   168         block3_Incept1_Branch_2_conv[0][0\n__________________________________________________________________________________________________\nblock3_Incept1_Branch_1_act (Ac (None, 56, 56, 96)   0           block3_Incept1_Branch_1_bn[0][0] \n__________________________________________________________________________________________________\nblock3_Incept1_Branch_2_act (Ac (None, 56, 56, 16)   0           block3_Incept1_Branch_2_bn[0][0] \n__________________________________________________________________________________________________\nmax_pooling2d_13 (MaxPooling2D) (None, 56, 56, 128)  0           block2_pool[0][0]                \n__________________________________________________________________________________________________\nblock3_Incept1_Branch_0_conv (C (None, 56, 56, 64)   8192        block2_pool[0][0]                \n__________________________________________________________________________________________________\nblock3_Incept1_Branch_1_1_conv  (None, 56, 56, 128)  110592      block3_Incept1_Branch_1_act[0][0]\n__________________________________________________________________________________________________\nblock3_Incept1_Branch_2_1_conv  (None, 56, 56, 32)   4608        block3_Incept1_Branch_2_act[0][0]\n__________________________________________________________________________________________________\nblock3_Incept1_Branch_3_conv (C (None, 56, 56, 32)   4096        max_pooling2d_13[0][0]           \n__________________________________________________________________________________________________\nblock3_Incept1_Branch_0_bn (Bat (None, 56, 56, 64)   168         block3_Incept1_Branch_0_conv[0][0\n__________________________________________________________________________________________________\nblock3_Incept1_Branch_1_1_bn (B (None, 56, 56, 128)  168         block3_Incept1_Branch_1_1_conv[0]\n__________________________________________________________________________________________________\nblock3_Incept1_Branch_2_1_bn (B (None, 56, 56, 32)   168         block3_Incept1_Branch_2_1_conv[0]\n__________________________________________________________________________________________________\nblock3_Incept1_Branch_3_bn (Bat (None, 56, 56, 32)   168         block3_Incept1_Branch_3_conv[0][0\n__________________________________________________________________________________________________\nblock3_Incept1_Branch_0_act (Ac (None, 56, 56, 64)   0           block3_Incept1_Branch_0_bn[0][0] \n__________________________________________________________________________________________________\nblock3_Incept1_Branch_1_1_act ( (None, 56, 56, 128)  0           block3_Incept1_Branch_1_1_bn[0][0\n__________________________________________________________________________________________________\nblock3_Incept1_Branch_2_1_act ( (None, 56, 56, 32)   0           block3_Incept1_Branch_2_1_bn[0][0\n__________________________________________________________________________________________________\nblock3_Incept1_Branch_3_act (Ac (None, 56, 56, 32)   0           block3_Incept1_Branch_3_bn[0][0] \n__________________________________________________________________________________________________\nblock3_Incept1_Concatenated (Co (None, 56, 56, 256)  0           block3_Incept1_Branch_0_act[0][0]\n                                                                 block3_Incept1_Branch_1_1_act[0][\n                                                                 block3_Incept1_Branch_2_1_act[0][\n                                                                 block3_Incept1_Branch_3_act[0][0]\n__________________________________________________________________________________________________\nblock3_Incept2_Branch_1_conv (C (None, 56, 56, 96)   24576       block3_Incept1_Concatenated[0][0]\n__________________________________________________________________________________________________\nblock3_Incept2_Branch_2_conv (C (None, 56, 56, 16)   4096        block3_Incept1_Concatenated[0][0]\n__________________________________________________________________________________________________\nblock3_Incept2_Branch_1_bn (Bat (None, 56, 56, 96)   168         block3_Incept2_Branch_1_conv[0][0\n__________________________________________________________________________________________________\nblock3_Incept2_Branch_2_bn (Bat (None, 56, 56, 16)   168         block3_Incept2_Branch_2_conv[0][0\n__________________________________________________________________________________________________\nblock3_Incept2_Branch_1_act (Ac (None, 56, 56, 96)   0           block3_Incept2_Branch_1_bn[0][0] \n__________________________________________________________________________________________________\nblock3_Incept2_Branch_2_act (Ac (None, 56, 56, 16)   0           block3_Incept2_Branch_2_bn[0][0] \n__________________________________________________________________________________________________\nmax_pooling2d_14 (MaxPooling2D) (None, 56, 56, 256)  0           block3_Incept1_Concatenated[0][0]\n__________________________________________________________________________________________________\nblock3_Incept2_Branch_0_conv (C (None, 56, 56, 64)   16384       block3_Incept1_Concatenated[0][0]\n__________________________________________________________________________________________________\nblock3_Incept2_Branch_1_1_conv  (None, 56, 56, 128)  110592      block3_Incept2_Branch_1_act[0][0]\n__________________________________________________________________________________________________\nblock3_Incept2_Branch_2_1_conv  (None, 56, 56, 32)   4608        block3_Incept2_Branch_2_act[0][0]\n__________________________________________________________________________________________________\nblock3_Incept2_Branch_3_conv (C (None, 56, 56, 32)   8192        max_pooling2d_14[0][0]           \n__________________________________________________________________________________________________\nblock3_Incept2_Branch_0_bn (Bat (None, 56, 56, 64)   168         block3_Incept2_Branch_0_conv[0][0\n__________________________________________________________________________________________________\nblock3_Incept2_Branch_1_1_bn (B (None, 56, 56, 128)  168         block3_Incept2_Branch_1_1_conv[0]\n__________________________________________________________________________________________________\nblock3_Incept2_Branch_2_1_bn (B (None, 56, 56, 32)   168         block3_Incept2_Branch_2_1_conv[0]\n__________________________________________________________________________________________________\nblock3_Incept2_Branch_3_bn (Bat (None, 56, 56, 32)   168         block3_Incept2_Branch_3_conv[0][0\n__________________________________________________________________________________________________\nblock3_Incept2_Branch_0_act (Ac (None, 56, 56, 64)   0           block3_Incept2_Branch_0_bn[0][0] \n__________________________________________________________________________________________________\nblock3_Incept2_Branch_1_1_act ( (None, 56, 56, 128)  0           block3_Incept2_Branch_1_1_bn[0][0\n__________________________________________________________________________________________________\nblock3_Incept2_Branch_2_1_act ( (None, 56, 56, 32)   0           block3_Incept2_Branch_2_1_bn[0][0\n__________________________________________________________________________________________________\nblock3_Incept2_Branch_3_act (Ac (None, 56, 56, 32)   0           block3_Incept2_Branch_3_bn[0][0] \n__________________________________________________________________________________________________\nblock3_Incept2_Concatenated (Co (None, 56, 56, 256)  0           block3_Incept2_Branch_0_act[0][0]\n                                                                 block3_Incept2_Branch_1_1_act[0][\n                                                                 block3_Incept2_Branch_2_1_act[0][\n                                                                 block3_Incept2_Branch_3_act[0][0]\n__________________________________________________________________________________________________\nblock3_Incept3_Branch_1_conv (C (None, 56, 56, 96)   24576       block3_Incept2_Concatenated[0][0]\n__________________________________________________________________________________________________\nblock3_Incept3_Branch_2_conv (C (None, 56, 56, 16)   4096        block3_Incept2_Concatenated[0][0]\n__________________________________________________________________________________________________\nblock3_Incept3_Branch_1_bn (Bat (None, 56, 56, 96)   168         block3_Incept3_Branch_1_conv[0][0\n__________________________________________________________________________________________________\nblock3_Incept3_Branch_2_bn (Bat (None, 56, 56, 16)   168         block3_Incept3_Branch_2_conv[0][0\n__________________________________________________________________________________________________\nblock3_Incept3_Branch_1_act (Ac (None, 56, 56, 96)   0           block3_Incept3_Branch_1_bn[0][0] \n__________________________________________________________________________________________________\nblock3_Incept3_Branch_2_act (Ac (None, 56, 56, 16)   0           block3_Incept3_Branch_2_bn[0][0] \n__________________________________________________________________________________________________\nmax_pooling2d_15 (MaxPooling2D) (None, 56, 56, 256)  0           block3_Incept2_Concatenated[0][0]\n__________________________________________________________________________________________________\nblock3_Incept3_Branch_0_conv (C (None, 56, 56, 64)   16384       block3_Incept2_Concatenated[0][0]\n__________________________________________________________________________________________________\nblock3_Incept3_Branch_1_1_conv  (None, 56, 56, 128)  110592      block3_Incept3_Branch_1_act[0][0]\n__________________________________________________________________________________________________\nblock3_Incept3_Branch_2_1_conv  (None, 56, 56, 32)   4608        block3_Incept3_Branch_2_act[0][0]\n__________________________________________________________________________________________________\nblock3_Incept3_Branch_3_conv (C (None, 56, 56, 32)   8192        max_pooling2d_15[0][0]           \n__________________________________________________________________________________________________\nblock3_Incept3_Branch_0_bn (Bat (None, 56, 56, 64)   168         block3_Incept3_Branch_0_conv[0][0\n__________________________________________________________________________________________________\nblock3_Incept3_Branch_1_1_bn (B (None, 56, 56, 128)  168         block3_Incept3_Branch_1_1_conv[0]\n__________________________________________________________________________________________________\nblock3_Incept3_Branch_2_1_bn (B (None, 56, 56, 32)   168         block3_Incept3_Branch_2_1_conv[0]\n__________________________________________________________________________________________________\nblock3_Incept3_Branch_3_bn (Bat (None, 56, 56, 32)   168         block3_Incept3_Branch_3_conv[0][0\n__________________________________________________________________________________________________\nblock3_Incept3_Branch_0_act (Ac (None, 56, 56, 64)   0           block3_Incept3_Branch_0_bn[0][0] \n__________________________________________________________________________________________________\nblock3_Incept3_Branch_1_1_act ( (None, 56, 56, 128)  0           block3_Incept3_Branch_1_1_bn[0][0\n__________________________________________________________________________________________________\nblock3_Incept3_Branch_2_1_act ( (None, 56, 56, 32)   0           block3_Incept3_Branch_2_1_bn[0][0\n__________________________________________________________________________________________________\nblock3_Incept3_Branch_3_act (Ac (None, 56, 56, 32)   0           block3_Incept3_Branch_3_bn[0][0] \n__________________________________________________________________________________________________\nblock3_Incept3_Concatenated (Co (None, 56, 56, 256)  0           block3_Incept3_Branch_0_act[0][0]\n                                                                 block3_Incept3_Branch_1_1_act[0][\n                                                                 block3_Incept3_Branch_2_1_act[0][\n                                                                 block3_Incept3_Branch_3_act[0][0]\n__________________________________________________________________________________________________\nblock3_pool (MaxPooling2D)      (None, 28, 28, 256)  0           block3_Incept3_Concatenated[0][0]\n__________________________________________________________________________________________________\nblock4_conv1_conv (Conv2D)      (None, 28, 28, 512)  1179648     block3_pool[0][0]                \n__________________________________________________________________________________________________\nblock4_conv1_bn (BatchNormaliza (None, 28, 28, 512)  84          block4_conv1_conv[0][0]          \n__________________________________________________________________________________________________\nblock4_conv1_act (Activation)   (None, 28, 28, 512)  0           block4_conv1_bn[0][0]            \n__________________________________________________________________________________________________\nblock4_conv2_conv (Conv2D)      (None, 28, 28, 512)  2359296     block4_conv1_act[0][0]           \n__________________________________________________________________________________________________\nblock4_conv2_bn (BatchNormaliza (None, 28, 28, 512)  84          block4_conv2_conv[0][0]          \n__________________________________________________________________________________________________\nblock4_conv2_act (Activation)   (None, 28, 28, 512)  0           block4_conv2_bn[0][0]            \n__________________________________________________________________________________________________\nblock4_conv3_conv (Conv2D)      (None, 28, 28, 512)  2359296     block4_conv2_act[0][0]           \n__________________________________________________________________________________________________\nblock4_conv3_bn (BatchNormaliza (None, 28, 28, 512)  84          block4_conv3_conv[0][0]          \n__________________________________________________________________________________________________\nblock4_conv3_act (Activation)   (None, 28, 28, 512)  0           block4_conv3_bn[0][0]            \n__________________________________________________________________________________________________\nblock4_pool (MaxPooling2D)      (None, 14, 14, 512)  0           block4_conv3_act[0][0]           \n__________________________________________________________________________________________________\nblock5_Incept1_Branch_1_conv (C (None, 14, 14, 16)   8192        block4_pool[0][0]                \n__________________________________________________________________________________________________\nblock5_Incept1_Branch_2_conv (C (None, 14, 14, 128)  65536       block4_pool[0][0]                \n__________________________________________________________________________________________________\nblock5_Incept1_Branch_1_bn (Bat (None, 14, 14, 16)   42          block5_Incept1_Branch_1_conv[0][0\n__________________________________________________________________________________________________\nblock5_Incept1_Branch_2_bn (Bat (None, 14, 14, 128)  42          block5_Incept1_Branch_2_conv[0][0\n__________________________________________________________________________________________________\nblock5_Incept1_Branch_1_act (Ac (None, 14, 14, 16)   0           block5_Incept1_Branch_1_bn[0][0] \n__________________________________________________________________________________________________\nblock5_Incept1_Branch_2_act (Ac (None, 14, 14, 128)  0           block5_Incept1_Branch_2_bn[0][0] \n__________________________________________________________________________________________________\nblock5_Incept1_Branch_1_1_conv  (None, 14, 14, 32)   1536        block5_Incept1_Branch_1_act[0][0]\n__________________________________________________________________________________________________\nblock5_Incept1_Branch_2_1_conv  (None, 14, 14, 64)   24576       block5_Incept1_Branch_2_act[0][0]\n__________________________________________________________________________________________________\nblock5_Incept1_Branch_1_1_bn (B (None, 14, 14, 32)   42          block5_Incept1_Branch_1_1_conv[0]\n__________________________________________________________________________________________________\nblock5_Incept1_Branch_2_1_bn (B (None, 14, 14, 64)   42          block5_Incept1_Branch_2_1_conv[0]\n__________________________________________________________________________________________________\nblock5_Incept1_Branch_1_1_act ( (None, 14, 14, 32)   0           block5_Incept1_Branch_1_1_bn[0][0\n__________________________________________________________________________________________________\nblock5_Incept1_Branch_2_1_act ( (None, 14, 14, 64)   0           block5_Incept1_Branch_2_1_bn[0][0\n__________________________________________________________________________________________________\nblock5_Incept1_Branch_3 (MaxPoo (None, 14, 14, 512)  0           block4_pool[0][0]                \n__________________________________________________________________________________________________\nblock5_Incept1_Branch_0_conv (C (None, 14, 14, 128)  65536       block4_pool[0][0]                \n__________________________________________________________________________________________________\nblock5_Incept1_Branch_1_2_conv  (None, 14, 14, 32)   3072        block5_Incept1_Branch_1_1_act[0][\n__________________________________________________________________________________________________\nblock5_Incept1_Branch_2_2_conv  (None, 14, 14, 64)   12288       block5_Incept1_Branch_2_1_act[0][\n__________________________________________________________________________________________________\nblock5_Incept1_Branch_3_1_conv  (None, 14, 14, 32)   16384       block5_Incept1_Branch_3[0][0]    \n__________________________________________________________________________________________________\nblock5_Incept1_Branch_0_bn (Bat (None, 14, 14, 128)  42          block5_Incept1_Branch_0_conv[0][0\n__________________________________________________________________________________________________\nblock5_Incept1_Branch_1_2_bn (B (None, 14, 14, 32)   42          block5_Incept1_Branch_1_2_conv[0]\n__________________________________________________________________________________________________\nblock5_Incept1_Branch_2_2_bn (B (None, 14, 14, 64)   42          block5_Incept1_Branch_2_2_conv[0]\n__________________________________________________________________________________________________\nblock5_Incept1_Branch_3_1_bn (B (None, 14, 14, 32)   42          block5_Incept1_Branch_3_1_conv[0]\n__________________________________________________________________________________________________\nblock5_Incept1_Branch_0_act (Ac (None, 14, 14, 128)  0           block5_Incept1_Branch_0_bn[0][0] \n__________________________________________________________________________________________________\nblock5_Incept1_Branch_1_2_act ( (None, 14, 14, 32)   0           block5_Incept1_Branch_1_2_bn[0][0\n__________________________________________________________________________________________________\nblock5_Incept1_Branch_2_2_act ( (None, 14, 14, 64)   0           block5_Incept1_Branch_2_2_bn[0][0\n__________________________________________________________________________________________________\nblock5_Incept1_Branch_3_1_act ( (None, 14, 14, 32)   0           block5_Incept1_Branch_3_1_bn[0][0\n__________________________________________________________________________________________________\nblock5_Incept1_Concatenated (Co (None, 14, 14, 256)  0           block5_Incept1_Branch_0_act[0][0]\n                                                                 block5_Incept1_Branch_1_2_act[0][\n                                                                 block5_Incept1_Branch_2_2_act[0][\n                                                                 block5_Incept1_Branch_3_1_act[0][\n__________________________________________________________________________________________________\nblock5_Incept2_Branch_1_conv (C (None, 14, 14, 16)   4096        block5_Incept1_Concatenated[0][0]\n__________________________________________________________________________________________________\nblock5_Incept2_Branch_2_conv (C (None, 14, 14, 128)  32768       block5_Incept1_Concatenated[0][0]\n__________________________________________________________________________________________________\nblock5_Incept2_Branch_1_bn (Bat (None, 14, 14, 16)   42          block5_Incept2_Branch_1_conv[0][0\n__________________________________________________________________________________________________\nblock5_Incept2_Branch_2_bn (Bat (None, 14, 14, 128)  42          block5_Incept2_Branch_2_conv[0][0\n__________________________________________________________________________________________________\nblock5_Incept2_Branch_1_act (Ac (None, 14, 14, 16)   0           block5_Incept2_Branch_1_bn[0][0] \n__________________________________________________________________________________________________\nblock5_Incept2_Branch_2_act (Ac (None, 14, 14, 128)  0           block5_Incept2_Branch_2_bn[0][0] \n__________________________________________________________________________________________________\nblock5_Incept2_Branch_1_1_conv  (None, 14, 14, 32)   1536        block5_Incept2_Branch_1_act[0][0]\n__________________________________________________________________________________________________\nblock5_Incept2_Branch_2_1_conv  (None, 14, 14, 64)   24576       block5_Incept2_Branch_2_act[0][0]\n__________________________________________________________________________________________________\nblock5_Incept2_Branch_1_1_bn (B (None, 14, 14, 32)   42          block5_Incept2_Branch_1_1_conv[0]\n__________________________________________________________________________________________________\nblock5_Incept2_Branch_2_1_bn (B (None, 14, 14, 64)   42          block5_Incept2_Branch_2_1_conv[0]\n__________________________________________________________________________________________________\nblock5_Incept2_Branch_1_1_act ( (None, 14, 14, 32)   0           block5_Incept2_Branch_1_1_bn[0][0\n__________________________________________________________________________________________________\nblock5_Incept2_Branch_2_1_act ( (None, 14, 14, 64)   0           block5_Incept2_Branch_2_1_bn[0][0\n__________________________________________________________________________________________________\nblock5_Incept2_Branch_3 (MaxPoo (None, 14, 14, 256)  0           block5_Incept1_Concatenated[0][0]\n__________________________________________________________________________________________________\nblock5_Incept2_Branch_0_conv (C (None, 14, 14, 128)  32768       block5_Incept1_Concatenated[0][0]\n__________________________________________________________________________________________________\nblock5_Incept2_Branch_1_2_conv  (None, 14, 14, 32)   3072        block5_Incept2_Branch_1_1_act[0][\n__________________________________________________________________________________________________\nblock5_Incept2_Branch_2_2_conv  (None, 14, 14, 64)   12288       block5_Incept2_Branch_2_1_act[0][\n__________________________________________________________________________________________________\nblock5_Incept2_Branch_3_1_conv  (None, 14, 14, 32)   8192        block5_Incept2_Branch_3[0][0]    \n__________________________________________________________________________________________________\nblock5_Incept2_Branch_0_bn (Bat (None, 14, 14, 128)  42          block5_Incept2_Branch_0_conv[0][0\n__________________________________________________________________________________________________\nblock5_Incept2_Branch_1_2_bn (B (None, 14, 14, 32)   42          block5_Incept2_Branch_1_2_conv[0]\n__________________________________________________________________________________________________\nblock5_Incept2_Branch_2_2_bn (B (None, 14, 14, 64)   42          block5_Incept2_Branch_2_2_conv[0]\n__________________________________________________________________________________________________\nblock5_Incept2_Branch_3_1_bn (B (None, 14, 14, 32)   42          block5_Incept2_Branch_3_1_conv[0]\n__________________________________________________________________________________________________\nblock5_Incept2_Branch_0_act (Ac (None, 14, 14, 128)  0           block5_Incept2_Branch_0_bn[0][0] \n__________________________________________________________________________________________________\nblock5_Incept2_Branch_1_2_act ( (None, 14, 14, 32)   0           block5_Incept2_Branch_1_2_bn[0][0\n__________________________________________________________________________________________________\nblock5_Incept2_Branch_2_2_act ( (None, 14, 14, 64)   0           block5_Incept2_Branch_2_2_bn[0][0\n__________________________________________________________________________________________________\nblock5_Incept2_Branch_3_1_act ( (None, 14, 14, 32)   0           block5_Incept2_Branch_3_1_bn[0][0\n__________________________________________________________________________________________________\nblock5_Incept2_Concatenated (Co (None, 14, 14, 256)  0           block5_Incept2_Branch_0_act[0][0]\n                                                                 block5_Incept2_Branch_1_2_act[0][\n                                                                 block5_Incept2_Branch_2_2_act[0][\n                                                                 block5_Incept2_Branch_3_1_act[0][\n__________________________________________________________________________________________________\nblock5_Incept3_Branch_1_conv (C (None, 14, 14, 16)   4096        block5_Incept2_Concatenated[0][0]\n__________________________________________________________________________________________________\nblock5_Incept3_Branch_2_conv (C (None, 14, 14, 128)  32768       block5_Incept2_Concatenated[0][0]\n__________________________________________________________________________________________________\nblock5_Incept3_Branch_1_bn (Bat (None, 14, 14, 16)   42          block5_Incept3_Branch_1_conv[0][0\n__________________________________________________________________________________________________\nblock5_Incept3_Branch_2_bn (Bat (None, 14, 14, 128)  42          block5_Incept3_Branch_2_conv[0][0\n__________________________________________________________________________________________________\nblock5_Incept3_Branch_1_act (Ac (None, 14, 14, 16)   0           block5_Incept3_Branch_1_bn[0][0] \n__________________________________________________________________________________________________\nblock5_Incept3_Branch_2_act (Ac (None, 14, 14, 128)  0           block5_Incept3_Branch_2_bn[0][0] \n__________________________________________________________________________________________________\nblock5_Incept3_Branch_1_1_conv  (None, 14, 14, 32)   1536        block5_Incept3_Branch_1_act[0][0]\n__________________________________________________________________________________________________\nblock5_Incept3_Branch_2_1_conv  (None, 14, 14, 64)   24576       block5_Incept3_Branch_2_act[0][0]\n__________________________________________________________________________________________________\nblock5_Incept3_Branch_1_1_bn (B (None, 14, 14, 32)   42          block5_Incept3_Branch_1_1_conv[0]\n__________________________________________________________________________________________________\nblock5_Incept3_Branch_2_1_bn (B (None, 14, 14, 64)   42          block5_Incept3_Branch_2_1_conv[0]\n__________________________________________________________________________________________________\nblock5_Incept3_Branch_1_1_act ( (None, 14, 14, 32)   0           block5_Incept3_Branch_1_1_bn[0][0\n__________________________________________________________________________________________________\nblock5_Incept3_Branch_2_1_act ( (None, 14, 14, 64)   0           block5_Incept3_Branch_2_1_bn[0][0\n__________________________________________________________________________________________________\nblock5_Incept3_Branch_3 (MaxPoo (None, 14, 14, 256)  0           block5_Incept2_Concatenated[0][0]\n__________________________________________________________________________________________________\nblock5_Incept3_Branch_0_conv (C (None, 14, 14, 128)  32768       block5_Incept2_Concatenated[0][0]\n__________________________________________________________________________________________________\nblock5_Incept3_Branch_1_2_conv  (None, 14, 14, 32)   3072        block5_Incept3_Branch_1_1_act[0][\n__________________________________________________________________________________________________\nblock5_Incept3_Branch_2_2_conv  (None, 14, 14, 64)   12288       block5_Incept3_Branch_2_1_act[0][\n__________________________________________________________________________________________________\nblock5_Incept3_Branch_3_1_conv  (None, 14, 14, 32)   8192        block5_Incept3_Branch_3[0][0]    \n__________________________________________________________________________________________________\nblock5_Incept3_Branch_0_bn (Bat (None, 14, 14, 128)  42          block5_Incept3_Branch_0_conv[0][0\n__________________________________________________________________________________________________\nblock5_Incept3_Branch_1_2_bn (B (None, 14, 14, 32)   42          block5_Incept3_Branch_1_2_conv[0]\n__________________________________________________________________________________________________\nblock5_Incept3_Branch_2_2_bn (B (None, 14, 14, 64)   42          block5_Incept3_Branch_2_2_conv[0]\n__________________________________________________________________________________________________\nblock5_Incept3_Branch_3_1_bn (B (None, 14, 14, 32)   42          block5_Incept3_Branch_3_1_conv[0]\n__________________________________________________________________________________________________\nblock5_Incept3_Branch_0_act (Ac (None, 14, 14, 128)  0           block5_Incept3_Branch_0_bn[0][0] \n__________________________________________________________________________________________________\nblock5_Incept3_Branch_1_2_act ( (None, 14, 14, 32)   0           block5_Incept3_Branch_1_2_bn[0][0\n__________________________________________________________________________________________________\nblock5_Incept3_Branch_2_2_act ( (None, 14, 14, 64)   0           block5_Incept3_Branch_2_2_bn[0][0\n__________________________________________________________________________________________________\nblock5_Incept3_Branch_3_1_act ( (None, 14, 14, 32)   0           block5_Incept3_Branch_3_1_bn[0][0\n__________________________________________________________________________________________________\nblock5_Incept3_Concatenated (Co (None, 14, 14, 256)  0           block5_Incept3_Branch_0_act[0][0]\n                                                                 block5_Incept3_Branch_1_2_act[0][\n                                                                 block5_Incept3_Branch_2_2_act[0][\n                                                                 block5_Incept3_Branch_3_1_act[0][\n__________________________________________________________________________________________________\nblock5_pool (MaxPooling2D)      (None, 7, 7, 256)    0           block5_Incept3_Concatenated[0][0]\n__________________________________________________________________________________________________\nglobal_max_pooling2d_1 (GlobalM (None, 256)          0           block5_pool[0][0]                \n==================================================================================================\nTotal params: 7,077,596\nTrainable params: 7,073,396\nNon-trainable params: 4,200\n__________________________________________________________________________________________________\n"
     ]
    }
   ],
   "source": [
    "model.summary()"
   ]
  },
  {
   "cell_type": "code",
   "execution_count": null,
   "metadata": {},
   "outputs": [],
   "source": []
  }
 ],
 "metadata": {
  "kernelspec": {
   "name": "python370jvsc74a57bd0f898655ca784692559396b1af9626b34a703e94ac9a4d0c848cba42136b70251",
   "display_name": "Python 3.7.0 64-bit ('tensorflow_gpu_3': conda)"
  },
  "language_info": {
   "codemirror_mode": {
    "name": "ipython",
    "version": 3
   },
   "file_extension": ".py",
   "mimetype": "text/x-python",
   "name": "python",
   "nbconvert_exporter": "python",
   "pygments_lexer": "ipython3",
   "version": "3.7.0"
  }
 },
 "nbformat": 4,
 "nbformat_minor": 2
}