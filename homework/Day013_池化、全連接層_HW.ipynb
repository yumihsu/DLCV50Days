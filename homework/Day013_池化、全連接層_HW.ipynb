{
 "cells": [
  {
   "cell_type": "markdown",
   "metadata": {},
   "source": [
    "## 『作業內容』\n",
    "####   依照指示，搭建Maxpooling層與全連接層"
   ]
  },
  {
   "cell_type": "markdown",
   "metadata": {},
   "source": [
    "## 『目標』\n",
    "####   了解Maxpooling的原理與CNN、FC層連結的方式"
   ]
  },
  {
   "cell_type": "code",
   "execution_count": 12,
   "metadata": {},
   "outputs": [],
   "source": [
    "from keras.models import Sequential  #用來啟動 NN\n",
    "from keras.layers import Conv2D  # Convolution Operation\n",
    "from keras.layers import MaxPooling2D # Pooling\n",
    "from keras.layers import Flatten , GlobalAveragePooling2D\n",
    "from keras.layers import Dense # Fully Connected Networks\n"
   ]
  },
  {
   "cell_type": "code",
   "execution_count": 19,
   "metadata": {
    "colab": {},
    "colab_type": "code",
    "id": "43xxX0yJxiDr"
   },
   "outputs": [],
   "source": [
    "input_shape = (32, 32, 3)\n",
    "\n",
    "model = Sequential()\n",
    "\n",
    "model.add(Conv2D(32, kernel_size=(3, 3), padding='same',input_shape=input_shape))\n",
    "model.add(MaxPooling2D(pool_size= 2, strides= 2))  ##pooling_size=2,2 strides=2,2 輸出feature map 大小為多少？\n",
    "'''\n",
    " 32 * 32 * 3 -> 16 * 16 * 3 \n",
    "'''\n",
    "\n",
    "model.add(Conv2D(64, kernel_size=(3, 3), padding='same'))\n",
    "model.add(MaxPooling2D(pool_size= 2, strides= 2))##pooling_size=2,2 strides=2,2 輸出feature map 大小為多少？\n",
    "'''\n",
    " 16 * 16 * 3 -> 8 * 8 * 3 \n",
    "'''\n",
    "model.add(Conv2D(128, kernel_size=(3, 3), padding='same'))\n",
    "model.add(MaxPooling2D(pool_size= 2, strides= 2))##pooling_size=1,1 strides=1,1 輸出feature map 大小為多少？\n",
    "'''\n",
    " 8 * 8 * 3 -> 4 * 4 * 3 \n",
    "'''\n",
    "model.add(Conv2D(10, kernel_size=(3, 3), padding='same'))\n",
    "'''\n",
    "使用flatten會變成4*4*10 = 160\n",
    "'''\n",
    "model.add(Flatten()) ##Flatten完尺寸如何變化？\n",
    "'''\n",
    "使用GlobalAveragePooling2D會變成channel數\n",
    "'''\n",
    "#model.add(GlobalAveragePooling2D()) #關掉Flatten，使用GlobalAveragePooling2D，完尺寸如何變化？\n",
    "\n",
    "model.add(Dense(28)) ##全連接層使用28個units"
   ]
  },
  {
   "cell_type": "code",
   "execution_count": 20,
   "metadata": {
    "colab": {},
    "colab_type": "code",
    "id": "nFgU3mB-xiDt",
    "outputId": "6fb884fa-75ad-4b47-b5c6-1fc948b2d614"
   },
   "outputs": [
    {
     "output_type": "stream",
     "name": "stdout",
     "text": [
      "Model: \"sequential_11\"\n_________________________________________________________________\nLayer (type)                 Output Shape              Param #   \n=================================================================\nconv2d_41 (Conv2D)           (None, 32, 32, 32)        896       \n_________________________________________________________________\nmax_pooling2d_31 (MaxPooling (None, 16, 16, 32)        0         \n_________________________________________________________________\nconv2d_42 (Conv2D)           (None, 16, 16, 64)        18496     \n_________________________________________________________________\nmax_pooling2d_32 (MaxPooling (None, 8, 8, 64)          0         \n_________________________________________________________________\nconv2d_43 (Conv2D)           (None, 8, 8, 128)         73856     \n_________________________________________________________________\nmax_pooling2d_33 (MaxPooling (None, 4, 4, 128)         0         \n_________________________________________________________________\nconv2d_44 (Conv2D)           (None, 4, 4, 10)          11530     \n_________________________________________________________________\nflatten_5 (Flatten)          (None, 160)               0         \n_________________________________________________________________\ndense_10 (Dense)             (None, 28)                4508      \n=================================================================\nTotal params: 109,286\nTrainable params: 109,286\nNon-trainable params: 0\n_________________________________________________________________\n"
     ]
    }
   ],
   "source": [
    "model.summary()"
   ]
  },
  {
   "cell_type": "code",
   "execution_count": null,
   "metadata": {},
   "outputs": [],
   "source": []
  }
 ],
 "metadata": {
  "colab": {
   "name": "池化、全連接層.ipynb",
   "provenance": []
  },
  "kernelspec": {
   "display_name": "Python 3",
   "language": "python",
   "name": "python3"
  },
  "language_info": {
   "codemirror_mode": {
    "name": "ipython",
    "version": 3
   },
   "file_extension": ".py",
   "mimetype": "text/x-python",
   "name": "python",
   "nbconvert_exporter": "python",
   "pygments_lexer": "ipython3",
   "version": "3.7.0-final"
  }
 },
 "nbformat": 4,
 "nbformat_minor": 1
}